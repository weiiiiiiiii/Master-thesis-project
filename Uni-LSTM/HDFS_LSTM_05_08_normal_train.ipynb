{
 "cells": [
  {
   "cell_type": "markdown",
   "metadata": {},
   "source": [
    "# Import packages"
   ]
  },
  {
   "cell_type": "code",
   "execution_count": 1,
   "metadata": {},
   "outputs": [],
   "source": [
    "import numpy as np\n",
    "from numpy import array\n",
    "from pickle import dump\n",
    "import os\n",
    "import zipfile\n",
    "\n",
    "# pandas is a data analysis tool, contains object DataFrame\n",
    "import pandas as pd\n",
    "#import torch\n",
    "#\n",
    "import random\n",
    "\n",
    "# regex\n",
    "import re\n",
    "\n",
    "# datetime objects\n",
    "import datetime\n",
    "\n",
    "# plotting packages\n",
    "import matplotlib.pyplot as plt\n",
    "import seaborn as sns\n",
    "sns.set_style('whitegrid')\n",
    "\n",
    "# used for creating the dictionary\n",
    "from sklearn.feature_extraction.text import CountVectorizer\n",
    "from sklearn.model_selection import train_test_split\n",
    "\n",
    "# used for flattening lists \n",
    "from itertools import chain\n",
    "from itertools import compress\n",
    "\n",
    "# NLTK and WordNet lemmatizer\n",
    "import nltk\n",
    "from nltk.stem import WordNetLemmatizer\n",
    "\n",
    "\n",
    "\n",
    "import tensorflow as tf\n",
    "from tensorflow import keras\n",
    "from tensorflow.keras import layers\n",
    "\n",
    "\n",
    "from keras.preprocessing.text import Tokenizer\n",
    "from keras.utils import to_categorical\n",
    "from keras.models import Sequential\n",
    "from keras.layers import Dense\n",
    "from keras.layers import LSTM\n",
    "from keras.layers import Embedding\n",
    "from keras.preprocessing.sequence import pad_sequences\n",
    "from keras.layers.core import Dense, SpatialDropout1D\n",
    "from keras.callbacks import EarlyStopping, ModelCheckpoint\n",
    "from keras.preprocessing.text import Tokenizer\n",
    "from keras.preprocessing import sequence\n",
    "\n",
    "from sklearn.model_selection import train_test_split\n",
    "import numpy\n",
    "import itertools\n",
    "import json\n",
    "from sklearn.model_selection import train_test_split\n",
    "import sys, os, re, csv, codecs, numpy as np, pandas as pd\n",
    "\n",
    "from keras.preprocessing.text import Tokenizer\n",
    "from keras.preprocessing.sequence import pad_sequences\n",
    "from keras.layers import Dense, Input, LSTM, Embedding, Dropout, Activation\n",
    "from keras.layers import Bidirectional, GlobalMaxPool1D\n",
    "from keras.models import Model\n",
    "from keras import initializers, regularizers, constraints, optimizers, layers\n",
    "\n",
    "from keras.layers import Input, Dense, LSTM, Flatten, concatenate\n",
    "from keras.models import Model\n",
    "from keras.optimizers import Adam\n",
    "from keras_self_attention import SeqSelfAttention\n",
    "import numpy as np \n",
    "import numpy as np\n",
    "from sklearn.model_selection import train_test_split\n",
    "\n",
    "import numpy as np\n",
    "import pandas as pd\n",
    "from pandas import Series, DataFrame\n",
    "import matplotlib.pyplot as plt\n",
    "\n",
    "# load and evaluate a saved model\n",
    "from numpy import loadtxt\n",
    "from keras.models import load_model\n",
    "from itertools import repeat\n",
    "from keras.callbacks import Callback\n",
    " "
   ]
  },
  {
   "cell_type": "markdown",
   "metadata": {},
   "source": [
    "# Training Data"
   ]
  },
  {
   "cell_type": "code",
   "execution_count": 2,
   "metadata": {},
   "outputs": [],
   "source": [
    "train_data= pd.read_pickle(\"C:\\\\Users\\\\A373503\\\\Desktop\\\\Complete_4_models\\\\HDFS\\\\Data\\\\HDFS_train_normal_data.pkl\")\n",
    "word2id=pd.read_pickle('C:\\\\Users\\\\A373503\\\\Desktop\\\\Complete_4_models\\\\HDFS\\\\Data\\\\word2id_train_normal.pkl')\n"
   ]
  },
  {
   "cell_type": "code",
   "execution_count": 28,
   "metadata": {},
   "outputs": [],
   "source": [
    "word2id[\"unknown\"]=len(word2id)+1"
   ]
  },
  {
   "cell_type": "code",
   "execution_count": 30,
   "metadata": {},
   "outputs": [
    {
     "name": "stdout",
     "output_type": "stream",
     "text": [
      "the size of the data: 446541\n",
      "the size of the vocab: 52\n"
     ]
    },
    {
     "data": {
      "text/html": [
       "<div>\n",
       "<style scoped>\n",
       "    .dataframe tbody tr th:only-of-type {\n",
       "        vertical-align: middle;\n",
       "    }\n",
       "\n",
       "    .dataframe tbody tr th {\n",
       "        vertical-align: top;\n",
       "    }\n",
       "\n",
       "    .dataframe thead th {\n",
       "        text-align: right;\n",
       "    }\n",
       "</style>\n",
       "<table border=\"1\" class=\"dataframe\">\n",
       "  <thead>\n",
       "    <tr style=\"text-align: right;\">\n",
       "      <th></th>\n",
       "      <th>Blockid</th>\n",
       "      <th>EventSequence</th>\n",
       "      <th>Length</th>\n",
       "    </tr>\n",
       "    <tr>\n",
       "      <th>labels</th>\n",
       "      <th></th>\n",
       "      <th></th>\n",
       "      <th></th>\n",
       "    </tr>\n",
       "  </thead>\n",
       "  <tbody>\n",
       "    <tr>\n",
       "      <td>0</td>\n",
       "      <td>446541</td>\n",
       "      <td>446541</td>\n",
       "      <td>446541</td>\n",
       "    </tr>\n",
       "  </tbody>\n",
       "</table>\n",
       "</div>"
      ],
      "text/plain": [
       "        Blockid  EventSequence  Length\n",
       "labels                                \n",
       "0        446541         446541  446541"
      ]
     },
     "execution_count": 30,
     "metadata": {},
     "output_type": "execute_result"
    }
   ],
   "source": [
    "print(\"the size of the data:\",len(train_data))\n",
    "print(\"the size of the vocab:\",len(word2id))\n",
    "train_data.groupby(['labels']).count()"
   ]
  },
  {
   "cell_type": "code",
   "execution_count": 31,
   "metadata": {},
   "outputs": [
    {
     "data": {
      "text/html": [
       "<div>\n",
       "<style scoped>\n",
       "    .dataframe tbody tr th:only-of-type {\n",
       "        vertical-align: middle;\n",
       "    }\n",
       "\n",
       "    .dataframe tbody tr th {\n",
       "        vertical-align: top;\n",
       "    }\n",
       "\n",
       "    .dataframe thead th {\n",
       "        text-align: right;\n",
       "    }\n",
       "</style>\n",
       "<table border=\"1\" class=\"dataframe\">\n",
       "  <thead>\n",
       "    <tr style=\"text-align: right;\">\n",
       "      <th></th>\n",
       "      <th>Blockid</th>\n",
       "      <th>EventSequence</th>\n",
       "      <th>labels</th>\n",
       "      <th>Length</th>\n",
       "    </tr>\n",
       "  </thead>\n",
       "  <tbody>\n",
       "    <tr>\n",
       "      <td>569963</td>\n",
       "      <td>blk_-8263499994297877702</td>\n",
       "      <td>[2, 2, 2, 12, 3, 4, 3, 4, 3, 4, 5, 5, 5, 6, 6,...</td>\n",
       "      <td>0</td>\n",
       "      <td>19</td>\n",
       "    </tr>\n",
       "    <tr>\n",
       "      <td>486412</td>\n",
       "      <td>blk_6623683650071326961</td>\n",
       "      <td>[2, 11, 2, 2, 3, 4, 3, 4, 3, 4, 5, 5, 14]</td>\n",
       "      <td>0</td>\n",
       "      <td>13</td>\n",
       "    </tr>\n",
       "    <tr>\n",
       "      <td>171779</td>\n",
       "      <td>blk_2082025639925650040</td>\n",
       "      <td>[2, 2, 2, 12, 3, 4, 3, 4, 3, 4, 5, 5, 5, 9, 10...</td>\n",
       "      <td>0</td>\n",
       "      <td>25</td>\n",
       "    </tr>\n",
       "    <tr>\n",
       "      <td>224584</td>\n",
       "      <td>blk_5448888175997650632</td>\n",
       "      <td>[2, 2, 11, 2, 3, 4, 3, 4, 3, 4, 5, 5, 5, 6, 6,...</td>\n",
       "      <td>0</td>\n",
       "      <td>19</td>\n",
       "    </tr>\n",
       "    <tr>\n",
       "      <td>536913</td>\n",
       "      <td>blk_4492763112427066795</td>\n",
       "      <td>[2, 2, 11, 2, 3, 4, 3, 4, 3, 4, 5, 5, 14]</td>\n",
       "      <td>0</td>\n",
       "      <td>13</td>\n",
       "    </tr>\n",
       "  </tbody>\n",
       "</table>\n",
       "</div>"
      ],
      "text/plain": [
       "                         Blockid  \\\n",
       "569963  blk_-8263499994297877702   \n",
       "486412   blk_6623683650071326961   \n",
       "171779   blk_2082025639925650040   \n",
       "224584   blk_5448888175997650632   \n",
       "536913   blk_4492763112427066795   \n",
       "\n",
       "                                            EventSequence labels  Length  \n",
       "569963  [2, 2, 2, 12, 3, 4, 3, 4, 3, 4, 5, 5, 5, 6, 6,...      0      19  \n",
       "486412          [2, 11, 2, 2, 3, 4, 3, 4, 3, 4, 5, 5, 14]      0      13  \n",
       "171779  [2, 2, 2, 12, 3, 4, 3, 4, 3, 4, 5, 5, 5, 9, 10...      0      25  \n",
       "224584  [2, 2, 11, 2, 3, 4, 3, 4, 3, 4, 5, 5, 5, 6, 6,...      0      19  \n",
       "536913          [2, 2, 11, 2, 3, 4, 3, 4, 3, 4, 5, 5, 14]      0      13  "
      ]
     },
     "execution_count": 31,
     "metadata": {},
     "output_type": "execute_result"
    }
   ],
   "source": [
    "train_data.head()"
   ]
  },
  {
   "cell_type": "markdown",
   "metadata": {},
   "source": [
    "# Test data"
   ]
  },
  {
   "cell_type": "code",
   "execution_count": 32,
   "metadata": {},
   "outputs": [
    {
     "data": {
      "text/html": [
       "<div>\n",
       "<style scoped>\n",
       "    .dataframe tbody tr th:only-of-type {\n",
       "        vertical-align: middle;\n",
       "    }\n",
       "\n",
       "    .dataframe tbody tr th {\n",
       "        vertical-align: top;\n",
       "    }\n",
       "\n",
       "    .dataframe thead th {\n",
       "        text-align: right;\n",
       "    }\n",
       "</style>\n",
       "<table border=\"1\" class=\"dataframe\">\n",
       "  <thead>\n",
       "    <tr style=\"text-align: right;\">\n",
       "      <th></th>\n",
       "      <th>Blockid</th>\n",
       "      <th>Preprocess_to_log_lines</th>\n",
       "      <th>labels</th>\n",
       "      <th>Length</th>\n",
       "    </tr>\n",
       "  </thead>\n",
       "  <tbody>\n",
       "    <tr>\n",
       "      <td>130892</td>\n",
       "      <td>blk_-7677011170870236960</td>\n",
       "      <td>[_info_dfs_fsnamesystem_block_namesystem_alloc...</td>\n",
       "      <td>0</td>\n",
       "      <td>23</td>\n",
       "    </tr>\n",
       "    <tr>\n",
       "      <td>174562</td>\n",
       "      <td>blk_6638067388838485468</td>\n",
       "      <td>[_info_dfs_datanode_dataxceiver_receiving_bloc...</td>\n",
       "      <td>0</td>\n",
       "      <td>25</td>\n",
       "    </tr>\n",
       "    <tr>\n",
       "      <td>45990</td>\n",
       "      <td>blk_-2587859430834379342</td>\n",
       "      <td>[_info_dfs_fsnamesystem_block_namesystem_alloc...</td>\n",
       "      <td>0</td>\n",
       "      <td>20</td>\n",
       "    </tr>\n",
       "    <tr>\n",
       "      <td>192504</td>\n",
       "      <td>blk_7519767082407935685</td>\n",
       "      <td>[_info_dfs_datanode_dataxceiver_receiving_bloc...</td>\n",
       "      <td>0</td>\n",
       "      <td>19</td>\n",
       "    </tr>\n",
       "    <tr>\n",
       "      <td>43736</td>\n",
       "      <td>blk_-2548681213192465965</td>\n",
       "      <td>[_info_dfs_fsnamesystem_block_namesystem_alloc...</td>\n",
       "      <td>0</td>\n",
       "      <td>19</td>\n",
       "    </tr>\n",
       "  </tbody>\n",
       "</table>\n",
       "</div>"
      ],
      "text/plain": [
       "                         Blockid  \\\n",
       "130892  blk_-7677011170870236960   \n",
       "174562   blk_6638067388838485468   \n",
       "45990   blk_-2587859430834379342   \n",
       "192504   blk_7519767082407935685   \n",
       "43736   blk_-2548681213192465965   \n",
       "\n",
       "                                  Preprocess_to_log_lines labels  Length  \n",
       "130892  [_info_dfs_fsnamesystem_block_namesystem_alloc...      0      23  \n",
       "174562  [_info_dfs_datanode_dataxceiver_receiving_bloc...      0      25  \n",
       "45990   [_info_dfs_fsnamesystem_block_namesystem_alloc...      0      20  \n",
       "192504  [_info_dfs_datanode_dataxceiver_receiving_bloc...      0      19  \n",
       "43736   [_info_dfs_fsnamesystem_block_namesystem_alloc...      0      19  "
      ]
     },
     "execution_count": 32,
     "metadata": {},
     "output_type": "execute_result"
    }
   ],
   "source": [
    "test_data=pd.read_pickle(\"C:\\\\Users\\\\A373503\\\\Desktop\\\\Complete_4_models\\\\HDFS\\\\Data\\\\HDFS_test_data.pkl\")\n",
    "test_data.head()"
   ]
  },
  {
   "cell_type": "code",
   "execution_count": 33,
   "metadata": {},
   "outputs": [
    {
     "name": "stdout",
     "output_type": "stream",
     "text": [
      "the size of the data: 115013\n"
     ]
    },
    {
     "data": {
      "text/html": [
       "<div>\n",
       "<style scoped>\n",
       "    .dataframe tbody tr th:only-of-type {\n",
       "        vertical-align: middle;\n",
       "    }\n",
       "\n",
       "    .dataframe tbody tr th {\n",
       "        vertical-align: top;\n",
       "    }\n",
       "\n",
       "    .dataframe thead th {\n",
       "        text-align: right;\n",
       "    }\n",
       "</style>\n",
       "<table border=\"1\" class=\"dataframe\">\n",
       "  <thead>\n",
       "    <tr style=\"text-align: right;\">\n",
       "      <th></th>\n",
       "      <th>Blockid</th>\n",
       "      <th>Preprocess_to_log_lines</th>\n",
       "      <th>Length</th>\n",
       "    </tr>\n",
       "    <tr>\n",
       "      <th>labels</th>\n",
       "      <th></th>\n",
       "      <th></th>\n",
       "      <th></th>\n",
       "    </tr>\n",
       "  </thead>\n",
       "  <tbody>\n",
       "    <tr>\n",
       "      <td>0</td>\n",
       "      <td>111682</td>\n",
       "      <td>111682</td>\n",
       "      <td>111682</td>\n",
       "    </tr>\n",
       "    <tr>\n",
       "      <td>1</td>\n",
       "      <td>3331</td>\n",
       "      <td>3331</td>\n",
       "      <td>3331</td>\n",
       "    </tr>\n",
       "  </tbody>\n",
       "</table>\n",
       "</div>"
      ],
      "text/plain": [
       "        Blockid  Preprocess_to_log_lines  Length\n",
       "labels                                          \n",
       "0        111682                   111682  111682\n",
       "1          3331                     3331    3331"
      ]
     },
     "execution_count": 33,
     "metadata": {},
     "output_type": "execute_result"
    }
   ],
   "source": [
    "print(\"the size of the data:\",len(test_data))\n",
    "test_data.groupby(['labels']).count()"
   ]
  },
  {
   "cell_type": "code",
   "execution_count": 34,
   "metadata": {},
   "outputs": [
    {
     "data": {
      "text/html": [
       "<div>\n",
       "<style scoped>\n",
       "    .dataframe tbody tr th:only-of-type {\n",
       "        vertical-align: middle;\n",
       "    }\n",
       "\n",
       "    .dataframe tbody tr th {\n",
       "        vertical-align: top;\n",
       "    }\n",
       "\n",
       "    .dataframe thead th {\n",
       "        text-align: right;\n",
       "    }\n",
       "</style>\n",
       "<table border=\"1\" class=\"dataframe\">\n",
       "  <thead>\n",
       "    <tr style=\"text-align: right;\">\n",
       "      <th></th>\n",
       "      <th>Blockid</th>\n",
       "      <th>Preprocess_to_log_lines</th>\n",
       "      <th>labels</th>\n",
       "      <th>Length</th>\n",
       "    </tr>\n",
       "  </thead>\n",
       "  <tbody>\n",
       "    <tr>\n",
       "      <td>130892</td>\n",
       "      <td>blk_-7677011170870236960</td>\n",
       "      <td>[_info_dfs_fsnamesystem_block_namesystem_alloc...</td>\n",
       "      <td>0</td>\n",
       "      <td>23</td>\n",
       "    </tr>\n",
       "    <tr>\n",
       "      <td>174562</td>\n",
       "      <td>blk_6638067388838485468</td>\n",
       "      <td>[_info_dfs_datanode_dataxceiver_receiving_bloc...</td>\n",
       "      <td>0</td>\n",
       "      <td>25</td>\n",
       "    </tr>\n",
       "    <tr>\n",
       "      <td>45990</td>\n",
       "      <td>blk_-2587859430834379342</td>\n",
       "      <td>[_info_dfs_fsnamesystem_block_namesystem_alloc...</td>\n",
       "      <td>0</td>\n",
       "      <td>20</td>\n",
       "    </tr>\n",
       "    <tr>\n",
       "      <td>192504</td>\n",
       "      <td>blk_7519767082407935685</td>\n",
       "      <td>[_info_dfs_datanode_dataxceiver_receiving_bloc...</td>\n",
       "      <td>0</td>\n",
       "      <td>19</td>\n",
       "    </tr>\n",
       "    <tr>\n",
       "      <td>43736</td>\n",
       "      <td>blk_-2548681213192465965</td>\n",
       "      <td>[_info_dfs_fsnamesystem_block_namesystem_alloc...</td>\n",
       "      <td>0</td>\n",
       "      <td>19</td>\n",
       "    </tr>\n",
       "  </tbody>\n",
       "</table>\n",
       "</div>"
      ],
      "text/plain": [
       "                         Blockid  \\\n",
       "130892  blk_-7677011170870236960   \n",
       "174562   blk_6638067388838485468   \n",
       "45990   blk_-2587859430834379342   \n",
       "192504   blk_7519767082407935685   \n",
       "43736   blk_-2548681213192465965   \n",
       "\n",
       "                                  Preprocess_to_log_lines labels  Length  \n",
       "130892  [_info_dfs_fsnamesystem_block_namesystem_alloc...      0      23  \n",
       "174562  [_info_dfs_datanode_dataxceiver_receiving_bloc...      0      25  \n",
       "45990   [_info_dfs_fsnamesystem_block_namesystem_alloc...      0      20  \n",
       "192504  [_info_dfs_datanode_dataxceiver_receiving_bloc...      0      19  \n",
       "43736   [_info_dfs_fsnamesystem_block_namesystem_alloc...      0      19  "
      ]
     },
     "execution_count": 34,
     "metadata": {},
     "output_type": "execute_result"
    }
   ],
   "source": [
    "test_data.head()"
   ]
  },
  {
   "cell_type": "code",
   "execution_count": 35,
   "metadata": {},
   "outputs": [
    {
     "name": "stdout",
     "output_type": "stream",
     "text": [
      "The size of training data: 446541\n",
      "The size of test data: 115013\n"
     ]
    }
   ],
   "source": [
    "print(\"The size of training data:\",len(train_data))\n",
    "print(\"The size of test data:\",len(test_data))"
   ]
  },
  {
   "cell_type": "markdown",
   "metadata": {},
   "source": [
    "<b> To avoid ignoring the short lengths logs: padding on the data"
   ]
  },
  {
   "cell_type": "code",
   "execution_count": 36,
   "metadata": {},
   "outputs": [],
   "source": [
    "def padding_short_logs(data,window_size):\n",
    "    for i in range(len(data)):\n",
    "        if len(data.EventSequence.iloc[i]) < window_size+1:\n",
    "            data.EventSequence.iloc[i]=pad_sequences([data.EventSequence.iloc[i]], maxlen=window_size+1)[0]\n",
    "            #print(data.EventSequence.iloc[i])"
   ]
  },
  {
   "cell_type": "code",
   "execution_count": 37,
   "metadata": {},
   "outputs": [],
   "source": [
    "data=train_data\n",
    "window_size=10\n",
    "padding_short_logs(data,window_size)"
   ]
  },
  {
   "cell_type": "code",
   "execution_count": 38,
   "metadata": {},
   "outputs": [
    {
     "data": {
      "text/html": [
       "<div>\n",
       "<style scoped>\n",
       "    .dataframe tbody tr th:only-of-type {\n",
       "        vertical-align: middle;\n",
       "    }\n",
       "\n",
       "    .dataframe tbody tr th {\n",
       "        vertical-align: top;\n",
       "    }\n",
       "\n",
       "    .dataframe thead th {\n",
       "        text-align: right;\n",
       "    }\n",
       "</style>\n",
       "<table border=\"1\" class=\"dataframe\">\n",
       "  <thead>\n",
       "    <tr style=\"text-align: right;\">\n",
       "      <th></th>\n",
       "      <th>Blockid</th>\n",
       "      <th>EventSequence</th>\n",
       "      <th>labels</th>\n",
       "      <th>Length</th>\n",
       "    </tr>\n",
       "  </thead>\n",
       "  <tbody>\n",
       "  </tbody>\n",
       "</table>\n",
       "</div>"
      ],
      "text/plain": [
       "Empty DataFrame\n",
       "Columns: [Blockid, EventSequence, labels, Length]\n",
       "Index: []"
      ]
     },
     "execution_count": 38,
     "metadata": {},
     "output_type": "execute_result"
    }
   ],
   "source": [
    "train_data[train_data[\"Length\"] < window_size]"
   ]
  },
  {
   "cell_type": "markdown",
   "metadata": {},
   "source": [
    "# Creating the input and target"
   ]
  },
  {
   "cell_type": "code",
   "execution_count": 39,
   "metadata": {},
   "outputs": [],
   "source": [
    "volab=len(word2id)\n",
    "def generate_within_blockid(data, window_size,step):\n",
    "    x = []\n",
    "    y = []\n",
    "    seq=[]\n",
    "    for i in range(len(data)):\n",
    "        for item in range(0,len(data[\"EventSequence\"].iloc[i])-window_size, step):\n",
    "            seq=data.EventSequence.iloc[i]\n",
    "            sentence=seq[item:item+window_size]\n",
    "            target=seq[item+window_size]\n",
    "                \n",
    "            x.append(sentence)\n",
    "            y.append(target)\n",
    "            \n",
    "    x=np.array(x)\n",
    "    y=to_categorical(y, volab+1)\n",
    "\n",
    "    return x,y"
   ]
  },
  {
   "cell_type": "code",
   "execution_count": 40,
   "metadata": {},
   "outputs": [],
   "source": [
    "X,y=generate_within_blockid(train_data, window_size,1)"
   ]
  },
  {
   "cell_type": "code",
   "execution_count": 41,
   "metadata": {},
   "outputs": [
    {
     "data": {
      "text/plain": [
       "4241476"
      ]
     },
     "execution_count": 41,
     "metadata": {},
     "output_type": "execute_result"
    }
   ],
   "source": [
    "len(X)"
   ]
  },
  {
   "cell_type": "markdown",
   "metadata": {},
   "source": [
    "# Fix the testdata: \n",
    "<b>transform the logs into integers as the same in the vocab and if unknown logs are found, transfer those into 52."
   ]
  },
  {
   "cell_type": "code",
   "execution_count": 43,
   "metadata": {},
   "outputs": [
    {
     "data": {
      "text/html": [
       "<div>\n",
       "<style scoped>\n",
       "    .dataframe tbody tr th:only-of-type {\n",
       "        vertical-align: middle;\n",
       "    }\n",
       "\n",
       "    .dataframe tbody tr th {\n",
       "        vertical-align: top;\n",
       "    }\n",
       "\n",
       "    .dataframe thead th {\n",
       "        text-align: right;\n",
       "    }\n",
       "</style>\n",
       "<table border=\"1\" class=\"dataframe\">\n",
       "  <thead>\n",
       "    <tr style=\"text-align: right;\">\n",
       "      <th></th>\n",
       "      <th>Blockid</th>\n",
       "      <th>Preprocess_to_log_lines</th>\n",
       "      <th>labels</th>\n",
       "      <th>Length</th>\n",
       "    </tr>\n",
       "  </thead>\n",
       "  <tbody>\n",
       "    <tr>\n",
       "      <td>130892</td>\n",
       "      <td>blk_-7677011170870236960</td>\n",
       "      <td>[_info_dfs_fsnamesystem_block_namesystem_alloc...</td>\n",
       "      <td>0</td>\n",
       "      <td>23</td>\n",
       "    </tr>\n",
       "    <tr>\n",
       "      <td>174562</td>\n",
       "      <td>blk_6638067388838485468</td>\n",
       "      <td>[_info_dfs_datanode_dataxceiver_receiving_bloc...</td>\n",
       "      <td>0</td>\n",
       "      <td>25</td>\n",
       "    </tr>\n",
       "    <tr>\n",
       "      <td>45990</td>\n",
       "      <td>blk_-2587859430834379342</td>\n",
       "      <td>[_info_dfs_fsnamesystem_block_namesystem_alloc...</td>\n",
       "      <td>0</td>\n",
       "      <td>20</td>\n",
       "    </tr>\n",
       "    <tr>\n",
       "      <td>192504</td>\n",
       "      <td>blk_7519767082407935685</td>\n",
       "      <td>[_info_dfs_datanode_dataxceiver_receiving_bloc...</td>\n",
       "      <td>0</td>\n",
       "      <td>19</td>\n",
       "    </tr>\n",
       "    <tr>\n",
       "      <td>43736</td>\n",
       "      <td>blk_-2548681213192465965</td>\n",
       "      <td>[_info_dfs_fsnamesystem_block_namesystem_alloc...</td>\n",
       "      <td>0</td>\n",
       "      <td>19</td>\n",
       "    </tr>\n",
       "  </tbody>\n",
       "</table>\n",
       "</div>"
      ],
      "text/plain": [
       "                         Blockid  \\\n",
       "130892  blk_-7677011170870236960   \n",
       "174562   blk_6638067388838485468   \n",
       "45990   blk_-2587859430834379342   \n",
       "192504   blk_7519767082407935685   \n",
       "43736   blk_-2548681213192465965   \n",
       "\n",
       "                                  Preprocess_to_log_lines labels  Length  \n",
       "130892  [_info_dfs_fsnamesystem_block_namesystem_alloc...      0      23  \n",
       "174562  [_info_dfs_datanode_dataxceiver_receiving_bloc...      0      25  \n",
       "45990   [_info_dfs_fsnamesystem_block_namesystem_alloc...      0      20  \n",
       "192504  [_info_dfs_datanode_dataxceiver_receiving_bloc...      0      19  \n",
       "43736   [_info_dfs_fsnamesystem_block_namesystem_alloc...      0      19  "
      ]
     },
     "execution_count": 43,
     "metadata": {},
     "output_type": "execute_result"
    }
   ],
   "source": [
    "test_data.head()"
   ]
  },
  {
   "cell_type": "code",
   "execution_count": 44,
   "metadata": {},
   "outputs": [],
   "source": [
    "inx=()\n",
    "forj=[]\n",
    "ends=[]\n",
    "for i in range(len(test_data)):\n",
    "\n",
    "    lists=test_data.Preprocess_to_log_lines.iloc[i]\n",
    "\n",
    "    for j in range(len(lists)):\n",
    "        \n",
    "        char=test_data.Preprocess_to_log_lines.iloc[i][j]\n",
    "        if char in word2id:\n",
    "            inx = word2id[char]\n",
    "        else:\n",
    "            inx = 52 #unknow\n",
    "            \n",
    "        forj += [inx]\n",
    "        \n",
    "    ends+=[forj]\n",
    "    forj= []"
   ]
  },
  {
   "cell_type": "code",
   "execution_count": 45,
   "metadata": {},
   "outputs": [],
   "source": [
    "test_data['EventSequence']=ends"
   ]
  },
  {
   "cell_type": "code",
   "execution_count": 46,
   "metadata": {},
   "outputs": [
    {
     "data": {
      "text/html": [
       "<div>\n",
       "<style scoped>\n",
       "    .dataframe tbody tr th:only-of-type {\n",
       "        vertical-align: middle;\n",
       "    }\n",
       "\n",
       "    .dataframe tbody tr th {\n",
       "        vertical-align: top;\n",
       "    }\n",
       "\n",
       "    .dataframe thead th {\n",
       "        text-align: right;\n",
       "    }\n",
       "</style>\n",
       "<table border=\"1\" class=\"dataframe\">\n",
       "  <thead>\n",
       "    <tr style=\"text-align: right;\">\n",
       "      <th></th>\n",
       "      <th>Blockid</th>\n",
       "      <th>Preprocess_to_log_lines</th>\n",
       "      <th>labels</th>\n",
       "      <th>Length</th>\n",
       "      <th>EventSequence</th>\n",
       "    </tr>\n",
       "  </thead>\n",
       "  <tbody>\n",
       "    <tr>\n",
       "      <td>130892</td>\n",
       "      <td>blk_-7677011170870236960</td>\n",
       "      <td>[_info_dfs_fsnamesystem_block_namesystem_alloc...</td>\n",
       "      <td>0</td>\n",
       "      <td>23</td>\n",
       "      <td>[11, 2, 2, 2, 5, 5, 5, 3, 4, 3, 4, 3, 4, 10, 1...</td>\n",
       "    </tr>\n",
       "    <tr>\n",
       "      <td>174562</td>\n",
       "      <td>blk_6638067388838485468</td>\n",
       "      <td>[_info_dfs_datanode_dataxceiver_receiving_bloc...</td>\n",
       "      <td>0</td>\n",
       "      <td>25</td>\n",
       "      <td>[2, 12, 2, 2, 3, 4, 3, 4, 3, 4, 5, 5, 5, 10, 9...</td>\n",
       "    </tr>\n",
       "    <tr>\n",
       "      <td>45990</td>\n",
       "      <td>blk_-2587859430834379342</td>\n",
       "      <td>[_info_dfs_fsnamesystem_block_namesystem_alloc...</td>\n",
       "      <td>0</td>\n",
       "      <td>20</td>\n",
       "      <td>[15, 2, 2, 2, 5, 5, 5, 3, 4, 3, 4, 3, 4, 13, 6...</td>\n",
       "    </tr>\n",
       "    <tr>\n",
       "      <td>192504</td>\n",
       "      <td>blk_7519767082407935685</td>\n",
       "      <td>[_info_dfs_datanode_dataxceiver_receiving_bloc...</td>\n",
       "      <td>0</td>\n",
       "      <td>19</td>\n",
       "      <td>[2, 2, 2, 15, 3, 4, 3, 4, 3, 4, 5, 5, 5, 6, 6,...</td>\n",
       "    </tr>\n",
       "    <tr>\n",
       "      <td>43736</td>\n",
       "      <td>blk_-2548681213192465965</td>\n",
       "      <td>[_info_dfs_fsnamesystem_block_namesystem_alloc...</td>\n",
       "      <td>0</td>\n",
       "      <td>19</td>\n",
       "      <td>[15, 2, 2, 2, 5, 5, 5, 3, 4, 3, 4, 3, 4, 6, 6,...</td>\n",
       "    </tr>\n",
       "  </tbody>\n",
       "</table>\n",
       "</div>"
      ],
      "text/plain": [
       "                         Blockid  \\\n",
       "130892  blk_-7677011170870236960   \n",
       "174562   blk_6638067388838485468   \n",
       "45990   blk_-2587859430834379342   \n",
       "192504   blk_7519767082407935685   \n",
       "43736   blk_-2548681213192465965   \n",
       "\n",
       "                                  Preprocess_to_log_lines labels  Length  \\\n",
       "130892  [_info_dfs_fsnamesystem_block_namesystem_alloc...      0      23   \n",
       "174562  [_info_dfs_datanode_dataxceiver_receiving_bloc...      0      25   \n",
       "45990   [_info_dfs_fsnamesystem_block_namesystem_alloc...      0      20   \n",
       "192504  [_info_dfs_datanode_dataxceiver_receiving_bloc...      0      19   \n",
       "43736   [_info_dfs_fsnamesystem_block_namesystem_alloc...      0      19   \n",
       "\n",
       "                                            EventSequence  \n",
       "130892  [11, 2, 2, 2, 5, 5, 5, 3, 4, 3, 4, 3, 4, 10, 1...  \n",
       "174562  [2, 12, 2, 2, 3, 4, 3, 4, 3, 4, 5, 5, 5, 10, 9...  \n",
       "45990   [15, 2, 2, 2, 5, 5, 5, 3, 4, 3, 4, 3, 4, 13, 6...  \n",
       "192504  [2, 2, 2, 15, 3, 4, 3, 4, 3, 4, 5, 5, 5, 6, 6,...  \n",
       "43736   [15, 2, 2, 2, 5, 5, 5, 3, 4, 3, 4, 3, 4, 6, 6,...  "
      ]
     },
     "execution_count": 46,
     "metadata": {},
     "output_type": "execute_result"
    }
   ],
   "source": [
    "test_data.head()"
   ]
  },
  {
   "cell_type": "code",
   "execution_count": 62,
   "metadata": {},
   "outputs": [
    {
     "name": "stderr",
     "output_type": "stream",
     "text": [
      "C:\\Anaconda3\\lib\\site-packages\\pandas\\core\\indexing.py:205: SettingWithCopyWarning: \n",
      "A value is trying to be set on a copy of a slice from a DataFrame\n",
      "\n",
      "See the caveats in the documentation: http://pandas.pydata.org/pandas-docs/stable/user_guide/indexing.html#returning-a-view-versus-a-copy\n",
      "  self._setitem_with_indexer(indexer, value)\n"
     ]
    }
   ],
   "source": [
    "padding_short_logs(test_data,window_size)"
   ]
  },
  {
   "cell_type": "code",
   "execution_count": 63,
   "metadata": {},
   "outputs": [
    {
     "data": {
      "text/html": [
       "<div>\n",
       "<style scoped>\n",
       "    .dataframe tbody tr th:only-of-type {\n",
       "        vertical-align: middle;\n",
       "    }\n",
       "\n",
       "    .dataframe tbody tr th {\n",
       "        vertical-align: top;\n",
       "    }\n",
       "\n",
       "    .dataframe thead th {\n",
       "        text-align: right;\n",
       "    }\n",
       "</style>\n",
       "<table border=\"1\" class=\"dataframe\">\n",
       "  <thead>\n",
       "    <tr style=\"text-align: right;\">\n",
       "      <th></th>\n",
       "      <th>Blockid</th>\n",
       "      <th>Preprocess_to_log_lines</th>\n",
       "      <th>labels</th>\n",
       "      <th>Length</th>\n",
       "      <th>EventSequence</th>\n",
       "    </tr>\n",
       "  </thead>\n",
       "  <tbody>\n",
       "    <tr>\n",
       "      <td>224054</td>\n",
       "      <td>blk_-5426282504664657154</td>\n",
       "      <td>[_info_dfs_datanode_dataxceiver_receiving_bloc...</td>\n",
       "      <td>1</td>\n",
       "      <td>2</td>\n",
       "      <td>[0, 0, 0, 0, 0, 0, 0, 0, 0, 2, 29]</td>\n",
       "    </tr>\n",
       "    <tr>\n",
       "      <td>320419</td>\n",
       "      <td>blk_1815563099310760915</td>\n",
       "      <td>[_info_dfs_datanode_dataxceiver_receiving_bloc...</td>\n",
       "      <td>1</td>\n",
       "      <td>2</td>\n",
       "      <td>[0, 0, 0, 0, 0, 0, 0, 0, 0, 2, 29]</td>\n",
       "    </tr>\n",
       "    <tr>\n",
       "      <td>319055</td>\n",
       "      <td>blk_-6624920247738861943</td>\n",
       "      <td>[_info_dfs_datanode_dataxceiver_receiving_bloc...</td>\n",
       "      <td>1</td>\n",
       "      <td>2</td>\n",
       "      <td>[0, 0, 0, 0, 0, 0, 0, 0, 0, 2, 29]</td>\n",
       "    </tr>\n",
       "    <tr>\n",
       "      <td>120040</td>\n",
       "      <td>blk_-5057408869195318440</td>\n",
       "      <td>[_info_dfs_fsnamesystem_block_namesystem_alloc...</td>\n",
       "      <td>1</td>\n",
       "      <td>2</td>\n",
       "      <td>[0, 0, 0, 0, 0, 0, 0, 0, 0, 11, 52]</td>\n",
       "    </tr>\n",
       "    <tr>\n",
       "      <td>59945</td>\n",
       "      <td>blk_-5648641265825038822</td>\n",
       "      <td>[_info_dfs_fsnamesystem_block_namesystem_alloc...</td>\n",
       "      <td>1</td>\n",
       "      <td>4</td>\n",
       "      <td>[0, 0, 0, 0, 0, 0, 0, 15, 2, 2, 52]</td>\n",
       "    </tr>\n",
       "    <tr>\n",
       "      <td>...</td>\n",
       "      <td>...</td>\n",
       "      <td>...</td>\n",
       "      <td>...</td>\n",
       "      <td>...</td>\n",
       "      <td>...</td>\n",
       "    </tr>\n",
       "    <tr>\n",
       "      <td>104248</td>\n",
       "      <td>blk_-1505433512692687124</td>\n",
       "      <td>[_info_dfs_fsnamesystem_block_namesystem_alloc...</td>\n",
       "      <td>1</td>\n",
       "      <td>4</td>\n",
       "      <td>[0, 0, 0, 0, 0, 0, 0, 12, 2, 2, 52]</td>\n",
       "    </tr>\n",
       "    <tr>\n",
       "      <td>496903</td>\n",
       "      <td>blk_4614053612572819297</td>\n",
       "      <td>[_info_dfs_datanode_dataxceiver_receiving_bloc...</td>\n",
       "      <td>1</td>\n",
       "      <td>2</td>\n",
       "      <td>[0, 0, 0, 0, 0, 0, 0, 0, 0, 2, 29]</td>\n",
       "    </tr>\n",
       "    <tr>\n",
       "      <td>61365</td>\n",
       "      <td>blk_3907620519002497721</td>\n",
       "      <td>[_info_dfs_fsnamesystem_block_namesystem_alloc...</td>\n",
       "      <td>1</td>\n",
       "      <td>4</td>\n",
       "      <td>[0, 0, 0, 0, 0, 0, 0, 15, 2, 2, 52]</td>\n",
       "    </tr>\n",
       "    <tr>\n",
       "      <td>72506</td>\n",
       "      <td>blk_4935208783324374013</td>\n",
       "      <td>[_info_dfs_fsnamesystem_block_namesystem_alloc...</td>\n",
       "      <td>1</td>\n",
       "      <td>4</td>\n",
       "      <td>[0, 0, 0, 0, 0, 0, 0, 12, 2, 2, 52]</td>\n",
       "    </tr>\n",
       "    <tr>\n",
       "      <td>42269</td>\n",
       "      <td>blk_9180164792650622841</td>\n",
       "      <td>[_info_dfs_fsnamesystem_block_namesystem_alloc...</td>\n",
       "      <td>1</td>\n",
       "      <td>2</td>\n",
       "      <td>[0, 0, 0, 0, 0, 0, 0, 0, 0, 15, 52]</td>\n",
       "    </tr>\n",
       "  </tbody>\n",
       "</table>\n",
       "<p>1224 rows × 5 columns</p>\n",
       "</div>"
      ],
      "text/plain": [
       "                         Blockid  \\\n",
       "224054  blk_-5426282504664657154   \n",
       "320419   blk_1815563099310760915   \n",
       "319055  blk_-6624920247738861943   \n",
       "120040  blk_-5057408869195318440   \n",
       "59945   blk_-5648641265825038822   \n",
       "...                          ...   \n",
       "104248  blk_-1505433512692687124   \n",
       "496903   blk_4614053612572819297   \n",
       "61365    blk_3907620519002497721   \n",
       "72506    blk_4935208783324374013   \n",
       "42269    blk_9180164792650622841   \n",
       "\n",
       "                                  Preprocess_to_log_lines labels  Length  \\\n",
       "224054  [_info_dfs_datanode_dataxceiver_receiving_bloc...      1       2   \n",
       "320419  [_info_dfs_datanode_dataxceiver_receiving_bloc...      1       2   \n",
       "319055  [_info_dfs_datanode_dataxceiver_receiving_bloc...      1       2   \n",
       "120040  [_info_dfs_fsnamesystem_block_namesystem_alloc...      1       2   \n",
       "59945   [_info_dfs_fsnamesystem_block_namesystem_alloc...      1       4   \n",
       "...                                                   ...    ...     ...   \n",
       "104248  [_info_dfs_fsnamesystem_block_namesystem_alloc...      1       4   \n",
       "496903  [_info_dfs_datanode_dataxceiver_receiving_bloc...      1       2   \n",
       "61365   [_info_dfs_fsnamesystem_block_namesystem_alloc...      1       4   \n",
       "72506   [_info_dfs_fsnamesystem_block_namesystem_alloc...      1       4   \n",
       "42269   [_info_dfs_fsnamesystem_block_namesystem_alloc...      1       2   \n",
       "\n",
       "                              EventSequence  \n",
       "224054   [0, 0, 0, 0, 0, 0, 0, 0, 0, 2, 29]  \n",
       "320419   [0, 0, 0, 0, 0, 0, 0, 0, 0, 2, 29]  \n",
       "319055   [0, 0, 0, 0, 0, 0, 0, 0, 0, 2, 29]  \n",
       "120040  [0, 0, 0, 0, 0, 0, 0, 0, 0, 11, 52]  \n",
       "59945   [0, 0, 0, 0, 0, 0, 0, 15, 2, 2, 52]  \n",
       "...                                     ...  \n",
       "104248  [0, 0, 0, 0, 0, 0, 0, 12, 2, 2, 52]  \n",
       "496903   [0, 0, 0, 0, 0, 0, 0, 0, 0, 2, 29]  \n",
       "61365   [0, 0, 0, 0, 0, 0, 0, 15, 2, 2, 52]  \n",
       "72506   [0, 0, 0, 0, 0, 0, 0, 12, 2, 2, 52]  \n",
       "42269   [0, 0, 0, 0, 0, 0, 0, 0, 0, 15, 52]  \n",
       "\n",
       "[1224 rows x 5 columns]"
      ]
     },
     "execution_count": 63,
     "metadata": {},
     "output_type": "execute_result"
    }
   ],
   "source": [
    "test_data[test_data[\"Length\"] < window_size]"
   ]
  },
  {
   "cell_type": "code",
   "execution_count": 64,
   "metadata": {},
   "outputs": [],
   "source": [
    "X_test,y_test=generate_within_blockid(test_data, window_size,1)"
   ]
  },
  {
   "cell_type": "code",
   "execution_count": 65,
   "metadata": {},
   "outputs": [
    {
     "data": {
      "text/plain": [
       "1097462"
      ]
     },
     "execution_count": 65,
     "metadata": {},
     "output_type": "execute_result"
    }
   ],
   "source": [
    "len(X_test)"
   ]
  },
  {
   "cell_type": "code",
   "execution_count": 51,
   "metadata": {},
   "outputs": [],
   "source": [
    "#test_data.to_pickle(\"HDFS_test_for_normal_train.pkl\")"
   ]
  },
  {
   "cell_type": "markdown",
   "metadata": {},
   "source": [
    "# Model "
   ]
  },
  {
   "cell_type": "code",
   "execution_count": 52,
   "metadata": {},
   "outputs": [
    {
     "name": "stdout",
     "output_type": "stream",
     "text": [
      "Model: \"sequential\"\n",
      "_________________________________________________________________\n",
      "Layer (type)                 Output Shape              Param #   \n",
      "=================================================================\n",
      "embedding (Embedding)        (None, 10, 128)           6784      \n",
      "_________________________________________________________________\n",
      "lstm (LSTM)                  (None, 64)                49408     \n",
      "_________________________________________________________________\n",
      "dense (Dense)                (None, 128)               8320      \n",
      "_________________________________________________________________\n",
      "dense_1 (Dense)              (None, 53)                6837      \n",
      "=================================================================\n",
      "Total params: 71,349\n",
      "Trainable params: 71,349\n",
      "Non-trainable params: 0\n",
      "_________________________________________________________________\n",
      "None\n"
     ]
    }
   ],
   "source": [
    "model = Sequential()\n",
    "model.add(Embedding(volab+1, 128, input_length = window_size)) #input shape: [samples, steps, features] \n",
    "model.add(LSTM(64))\n",
    "model.add(Dense(128, activation='relu'))\n",
    "model.add(Dense(volab+1, activation='softmax')) #76 here is the vocab size+1\n",
    "print(model.summary())"
   ]
  },
  {
   "cell_type": "markdown",
   "metadata": {},
   "source": [
    "<b>validation_split</b>: Float between 0 and 1. Fraction of the training data to be used as validation data. The model will set apart this fraction of the training data, will not train on it, and will evaluate the loss and any model metrics on this data at the end of each epoch"
   ]
  },
  {
   "cell_type": "markdown",
   "metadata": {},
   "source": [
    "#  Remind: solve the reduce learning rate issue, does not work during modeling progress."
   ]
  },
  {
   "cell_type": "code",
   "execution_count": 53,
   "metadata": {},
   "outputs": [
    {
     "name": "stdout",
     "output_type": "stream",
     "text": [
      "Epoch 1/10\n",
      "59646/59646 [==============================] - 376s 6ms/step - loss: 0.3063 - accuracy: 0.8845 - recall: 0.8644 - precision: 0.9109 - true_positives: 1674252.8792 - true_negatives: 99103119.3629 - false_positives: 159325.1726 - false_negatives: 234483.1192 - val_loss: 0.2542 - val_accuracy: 0.8979 - val_recall: 0.8871 - val_precision: 0.9146 - val_true_positives: 376242.0000 - val_true_negatives: 22020598.0000 - val_false_positives: 35118.0000 - val_false_negatives: 47906.0000\n",
      "Epoch 2/10\n",
      "59646/59646 [==============================] - 363s 6ms/step - loss: 0.2532 - accuracy: 0.8993 - recall: 0.8876 - precision: 0.9158 - true_positives: 1694569.2587 - true_negatives: 99106781.6937 - false_positives: 155880.1731 - false_negatives: 214166.7397 - val_loss: 0.2533 - val_accuracy: 0.8988 - val_recall: 0.8864 - val_precision: 0.9161 - val_true_positives: 375948.0000 - val_true_negatives: 22021312.0000 - val_false_positives: 34415.0000 - val_false_negatives: 48200.0000\n",
      "Epoch 3/10\n",
      "59646/59646 [==============================] - 369s 6ms/step - loss: 0.2517 - accuracy: 0.8998 - recall: 0.8883 - precision: 0.9163 - true_positives: 1695548.0893 - true_negatives: 99108013.3110 - false_positives: 154874.2609 - false_negatives: 213187.9090 - val_loss: 0.2535 - val_accuracy: 0.8981 - val_recall: 0.8861 - val_precision: 0.9163 - val_true_positives: 375857.0000 - val_true_negatives: 22021308.0000 - val_false_positives: 34343.0000 - val_false_negatives: 48291.0000\n",
      "Epoch 4/10\n",
      "59646/59646 [==============================] - 365s 6ms/step - loss: 0.2509 - accuracy: 0.9001 - recall: 0.8884 - precision: 0.9167 - true_positives: 1695545.5637 - true_negatives: 99108622.9018 - false_positives: 154320.7044 - false_negatives: 213190.4347 - val_loss: 0.2521 - val_accuracy: 0.8997 - val_recall: 0.8887 - val_precision: 0.9160 - val_true_positives: 376928.0000 - val_true_negatives: 22021148.0000 - val_false_positives: 34571.0000 - val_false_negatives: 47220.0000\n",
      "Epoch 5/10\n",
      "59646/59646 [==============================] - 366s 6ms/step - loss: 0.2508 - accuracy: 0.9002 - recall: 0.8884 - precision: 0.9167 - true_positives: 1695761.2002 - true_negatives: 99108983.3471 - false_positives: 154141.2371 - false_negatives: 212974.7981 - val_loss: 0.2534 - val_accuracy: 0.8990 - val_recall: 0.8882 - val_precision: 0.9149 - val_true_positives: 376745.0000 - val_true_negatives: 22020678.0000 - val_false_positives: 35026.0000 - val_false_negatives: 47403.0000\n",
      "Epoch 6/10\n",
      "59646/59646 [==============================] - 369s 6ms/step - loss: 0.2510 - accuracy: 0.9001 - recall: 0.8883 - precision: 0.9168 - true_positives: 1695621.2375 - true_negatives: 99109377.3485 - false_positives: 154015.9974 - false_negatives: 213114.7609 - val_loss: 0.2522 - val_accuracy: 0.8991 - val_recall: 0.8874 - val_precision: 0.9157 - val_true_positives: 376377.0000 - val_true_negatives: 22021048.0000 - val_false_positives: 34655.0000 - val_false_negatives: 47771.0000\n",
      "Epoch 7/10\n",
      "59646/59646 [==============================] - 357s 6ms/step - loss: 0.2502 - accuracy: 0.9003 - recall: 0.8884 - precision: 0.9169 - true_positives: 1695795.5818 - true_negatives: 99109342.0542 - false_positives: 153590.9721 - false_negatives: 212940.4166 - val_loss: 0.2531 - val_accuracy: 0.8995 - val_recall: 0.8900 - val_precision: 0.9138 - val_true_positives: 377510.0000 - val_true_negatives: 22020108.0000 - val_false_positives: 35630.0000 - val_false_negatives: 46638.0000\n",
      "\n",
      "Epoch 00007: ReduceLROnPlateau reducing learning rate to 0.0005000000237487257.\n",
      "Epoch 8/10\n",
      "59646/59646 [==============================] - 362s 6ms/step - loss: 0.2492 - accuracy: 0.9004 - recall: 0.8888 - precision: 0.9171 - true_positives: 1696423.0549 - true_negatives: 99109726.4032 - false_positives: 153374.0438 - false_negatives: 212312.9435 - val_loss: 0.2508 - val_accuracy: 0.8997 - val_recall: 0.8895 - val_precision: 0.9152 - val_true_positives: 377284.0000 - val_true_negatives: 22020768.0000 - val_false_positives: 34956.0000 - val_false_negatives: 46864.0000\n",
      "Epoch 9/10\n",
      "59646/59646 [==============================] - 363s 6ms/step - loss: 0.2489 - accuracy: 0.9006 - recall: 0.8889 - precision: 0.9170 - true_positives: 1696484.8780 - true_negatives: 99109758.8299 - false_positives: 153398.0555 - false_negatives: 212251.1204 - val_loss: 0.2511 - val_accuracy: 0.8997 - val_recall: 0.8868 - val_precision: 0.9173 - val_true_positives: 376131.0000 - val_true_negatives: 22021786.0000 - val_false_positives: 33909.0000 - val_false_negatives: 48017.0000\n",
      "Epoch 10/10\n",
      "59646/59646 [==============================] - 358s 6ms/step - loss: 0.2486 - accuracy: 0.9007 - recall: 0.8889 - precision: 0.9173 - true_positives: 1696756.5702 - true_negatives: 99110042.4795 - false_positives: 153079.8909 - false_negatives: 211979.4282 - val_loss: 0.2512 - val_accuracy: 0.8999 - val_recall: 0.8887 - val_precision: 0.9161 - val_true_positives: 376945.0000 - val_true_negatives: 22021188.0000 - val_false_positives: 34507.0000 - val_false_negatives: 47203.0000\n"
     ]
    },
    {
     "data": {
      "text/plain": [
       "<tensorflow.python.keras.callbacks.History at 0x19b995b3b88>"
      ]
     },
     "execution_count": 53,
     "metadata": {},
     "output_type": "execute_result"
    }
   ],
   "source": [
    "optim=tf.keras.optimizers.Adam(learning_rate=0.001)\n",
    "reduce_lr = tf.keras.callbacks.ReduceLROnPlateau( monitor=\"val_loss\", factor=0.5,\n",
    "           patience=3, verbose=1)\n",
    "logs = Callback()\n",
    "model.compile(loss='categorical_crossentropy', optimizer=optim, metrics=['accuracy',tf.keras.metrics.Recall(),tf.keras.metrics.Precision(),tf.keras.metrics.TruePositives(),tf.keras.metrics.TrueNegatives(), tf.keras.metrics.FalsePositives(), tf.keras.metrics.FalseNegatives()])\n",
    "model.fit(X, y, batch_size=64, epochs=10,shuffle = True,validation_split = 0.1, callbacks=[reduce_lr])"
   ]
  },
  {
   "cell_type": "code",
   "execution_count": 54,
   "metadata": {},
   "outputs": [
    {
     "name": "stderr",
     "output_type": "stream",
     "text": [
      "WARNING:absl:Found untraced functions such as lstm_cell_layer_call_and_return_conditional_losses, lstm_cell_layer_call_fn, lstm_cell_layer_call_fn, lstm_cell_layer_call_and_return_conditional_losses, lstm_cell_layer_call_and_return_conditional_losses while saving (showing 5 of 5). These functions will not be directly callable after loading.\n",
      "WARNING:absl:Found untraced functions such as lstm_cell_layer_call_and_return_conditional_losses, lstm_cell_layer_call_fn, lstm_cell_layer_call_fn, lstm_cell_layer_call_and_return_conditional_losses, lstm_cell_layer_call_and_return_conditional_losses while saving (showing 5 of 5). These functions will not be directly callable after loading.\n"
     ]
    },
    {
     "name": "stdout",
     "output_type": "stream",
     "text": [
      "INFO:tensorflow:Assets written to: hdfs_05_09_normal_training.txt\\assets\n"
     ]
    },
    {
     "name": "stderr",
     "output_type": "stream",
     "text": [
      "INFO:tensorflow:Assets written to: hdfs_05_09_normal_training.txt\\assets\n"
     ]
    }
   ],
   "source": [
    "# Save model\n",
    "model.save('hdfs_05_09_normal_training.txt') #\n",
    "\n",
    "\n",
    "# load model\n",
    "model = load_model('hdfs_05_09_normal_training.txt')\n"
   ]
  },
  {
   "cell_type": "markdown",
   "metadata": {},
   "source": [
    "# softmax output"
   ]
  },
  {
   "cell_type": "code",
   "execution_count": 66,
   "metadata": {},
   "outputs": [
    {
     "name": "stdout",
     "output_type": "stream",
     "text": [
      "34296/34296 [==============================] - 62s 2ms/step\n"
     ]
    }
   ],
   "source": [
    "#softmax output\n",
    "prediction = model.predict(X_test, verbose=1)"
   ]
  },
  {
   "cell_type": "markdown",
   "metadata": {},
   "source": [
    "# Point the target to the corresponding block"
   ]
  },
  {
   "cell_type": "code",
   "execution_count": 67,
   "metadata": {},
   "outputs": [
    {
     "data": {
      "text/html": [
       "<div>\n",
       "<style scoped>\n",
       "    .dataframe tbody tr th:only-of-type {\n",
       "        vertical-align: middle;\n",
       "    }\n",
       "\n",
       "    .dataframe tbody tr th {\n",
       "        vertical-align: top;\n",
       "    }\n",
       "\n",
       "    .dataframe thead th {\n",
       "        text-align: right;\n",
       "    }\n",
       "</style>\n",
       "<table border=\"1\" class=\"dataframe\">\n",
       "  <thead>\n",
       "    <tr style=\"text-align: right;\">\n",
       "      <th></th>\n",
       "      <th>Blockid</th>\n",
       "      <th>Preprocess_to_log_lines</th>\n",
       "      <th>labels</th>\n",
       "      <th>Length</th>\n",
       "      <th>EventSequence</th>\n",
       "    </tr>\n",
       "  </thead>\n",
       "  <tbody>\n",
       "    <tr>\n",
       "      <td>130892</td>\n",
       "      <td>blk_-7677011170870236960</td>\n",
       "      <td>[_info_dfs_fsnamesystem_block_namesystem_alloc...</td>\n",
       "      <td>0</td>\n",
       "      <td>23</td>\n",
       "      <td>[11, 2, 2, 2, 5, 5, 5, 3, 4, 3, 4, 3, 4, 10, 1...</td>\n",
       "    </tr>\n",
       "    <tr>\n",
       "      <td>174562</td>\n",
       "      <td>blk_6638067388838485468</td>\n",
       "      <td>[_info_dfs_datanode_dataxceiver_receiving_bloc...</td>\n",
       "      <td>0</td>\n",
       "      <td>25</td>\n",
       "      <td>[2, 12, 2, 2, 3, 4, 3, 4, 3, 4, 5, 5, 5, 10, 9...</td>\n",
       "    </tr>\n",
       "    <tr>\n",
       "      <td>45990</td>\n",
       "      <td>blk_-2587859430834379342</td>\n",
       "      <td>[_info_dfs_fsnamesystem_block_namesystem_alloc...</td>\n",
       "      <td>0</td>\n",
       "      <td>20</td>\n",
       "      <td>[15, 2, 2, 2, 5, 5, 5, 3, 4, 3, 4, 3, 4, 13, 6...</td>\n",
       "    </tr>\n",
       "    <tr>\n",
       "      <td>192504</td>\n",
       "      <td>blk_7519767082407935685</td>\n",
       "      <td>[_info_dfs_datanode_dataxceiver_receiving_bloc...</td>\n",
       "      <td>0</td>\n",
       "      <td>19</td>\n",
       "      <td>[2, 2, 2, 15, 3, 4, 3, 4, 3, 4, 5, 5, 5, 6, 6,...</td>\n",
       "    </tr>\n",
       "    <tr>\n",
       "      <td>43736</td>\n",
       "      <td>blk_-2548681213192465965</td>\n",
       "      <td>[_info_dfs_fsnamesystem_block_namesystem_alloc...</td>\n",
       "      <td>0</td>\n",
       "      <td>19</td>\n",
       "      <td>[15, 2, 2, 2, 5, 5, 5, 3, 4, 3, 4, 3, 4, 6, 6,...</td>\n",
       "    </tr>\n",
       "  </tbody>\n",
       "</table>\n",
       "</div>"
      ],
      "text/plain": [
       "                         Blockid  \\\n",
       "130892  blk_-7677011170870236960   \n",
       "174562   blk_6638067388838485468   \n",
       "45990   blk_-2587859430834379342   \n",
       "192504   blk_7519767082407935685   \n",
       "43736   blk_-2548681213192465965   \n",
       "\n",
       "                                  Preprocess_to_log_lines labels  Length  \\\n",
       "130892  [_info_dfs_fsnamesystem_block_namesystem_alloc...      0      23   \n",
       "174562  [_info_dfs_datanode_dataxceiver_receiving_bloc...      0      25   \n",
       "45990   [_info_dfs_fsnamesystem_block_namesystem_alloc...      0      20   \n",
       "192504  [_info_dfs_datanode_dataxceiver_receiving_bloc...      0      19   \n",
       "43736   [_info_dfs_fsnamesystem_block_namesystem_alloc...      0      19   \n",
       "\n",
       "                                            EventSequence  \n",
       "130892  [11, 2, 2, 2, 5, 5, 5, 3, 4, 3, 4, 3, 4, 10, 1...  \n",
       "174562  [2, 12, 2, 2, 3, 4, 3, 4, 3, 4, 5, 5, 5, 10, 9...  \n",
       "45990   [15, 2, 2, 2, 5, 5, 5, 3, 4, 3, 4, 3, 4, 13, 6...  \n",
       "192504  [2, 2, 2, 15, 3, 4, 3, 4, 3, 4, 5, 5, 5, 6, 6,...  \n",
       "43736   [15, 2, 2, 2, 5, 5, 5, 3, 4, 3, 4, 3, 4, 6, 6,...  "
      ]
     },
     "execution_count": 67,
     "metadata": {},
     "output_type": "execute_result"
    }
   ],
   "source": [
    "test_data.head() #overview the dataset again"
   ]
  },
  {
   "cell_type": "code",
   "execution_count": 68,
   "metadata": {},
   "outputs": [
    {
     "data": {
      "text/plain": [
       "0    111682\n",
       "1      3331\n",
       "Name: labels, dtype: int64"
      ]
     },
     "execution_count": 68,
     "metadata": {},
     "output_type": "execute_result"
    }
   ],
   "source": [
    "test_data.labels.value_counts() #here we will see how many anomalies in the testdata"
   ]
  },
  {
   "cell_type": "code",
   "execution_count": 69,
   "metadata": {},
   "outputs": [],
   "source": [
    "def labeled_targets(data,window_size):\n",
    "    window_num=[]\n",
    "    for i in range(len(data)):        \n",
    "        window_n=len(data.EventSequence.iloc[i])-window_size\n",
    "        window_num.append(window_n)         \n",
    "    return window_num"
   ]
  },
  {
   "cell_type": "code",
   "execution_count": 70,
   "metadata": {},
   "outputs": [],
   "source": [
    "window_num=labeled_targets(test_data,window_size)"
   ]
  },
  {
   "cell_type": "code",
   "execution_count": 71,
   "metadata": {},
   "outputs": [
    {
     "name": "stdout",
     "output_type": "stream",
     "text": [
      "sum of the window_num 1097462\n",
      "window num of X_test 1097462\n"
     ]
    }
   ],
   "source": [
    "#check the functions are correct\n",
    "print(\"sum of the window_num\",sum(window_num))\n",
    "print(\"window num of X_test\",len(X_test))\n",
    "##################################33\n",
    "#if the two values are same: no error step now"
   ]
  },
  {
   "cell_type": "code",
   "execution_count": 72,
   "metadata": {},
   "outputs": [],
   "source": [
    "for i in window_num:\n",
    "    if i<1:\n",
    "        print(i)\n",
    "#make sure we do not have any negetive numbers\n",
    "#if we have the negetive number: we did not padding the short length logs"
   ]
  },
  {
   "cell_type": "markdown",
   "metadata": {},
   "source": [
    "#  Deeplog Method : "
   ]
  },
  {
   "cell_type": "code",
   "execution_count": 73,
   "metadata": {},
   "outputs": [
    {
     "data": {
      "text/plain": [
       "[<matplotlib.lines.Line2D at 0x19ba16f5708>]"
      ]
     },
     "execution_count": 73,
     "metadata": {},
     "output_type": "execute_result"
    },
    {
     "data": {
      "image/png": "[encoded data removed]",
      "text/plain": [
       "<Figure size 432x288 with 1 Axes>"
      ]
     },
     "metadata": {
      "needs_background": "light"
     },
     "output_type": "display_data"
    }
   ],
   "source": [
    "#accuracy overview \n",
    "accs=list()\n",
    "\n",
    "for i in range(1,20):\n",
    "    preds=(-prediction).argsort()[:,:i]\n",
    "    truth=(-y_test).argsort()[:,0]\n",
    "    truth=truth[:, None]\n",
    "    \n",
    "    acc=sum([truth[i] in preds[i] for i in range(len(truth))])/len(truth)  \n",
    "    accs.append(acc)   \n",
    "    \n",
    "x=np.arange(1,20)\n",
    "plt.xlabel('Threshold')\n",
    "plt.ylabel('Accuracy')\n",
    "plt.plot(x,accs)"
   ]
  },
  {
   "cell_type": "code",
   "execution_count": 83,
   "metadata": {},
   "outputs": [
    {
     "name": "stdout",
     "output_type": "stream",
     "text": [
      "This print is to check all ranges are correct:\n",
      "The range will be in 1097453 and 1097462 and the lenth of the targets in this block is 9\n",
      " Round 115013  done!!!\n",
      "\n",
      "Top 10 :\n",
      "True positive (anomaly label with anomaly prediction): 2606\n",
      "False positive (normal label with anomaly prediction): 27\n",
      "False negative (anomaly label with normal prediction):  725\n",
      "True negative (normal label with normal prediction): 111655\n",
      "Accuracy: 0.9934616086877136\n",
      "Precision: 0.9897455374097988\n",
      "Recall: 0.7823476433503452\n",
      "F1 score: 0.8739101274312542\n",
      "---The runing time is: 11.086740970611572 seconds ---\n"
     ]
    }
   ],
   "source": [
    "import time\n",
    "start_time = time.time()\n",
    "\n",
    "TN=0 #ture negative\n",
    "FP=0 #false positive\n",
    "FN=0 #false negative\n",
    "TP=0 #ture positive\n",
    "precision=0\n",
    "recall=0\n",
    "accuracy=0\n",
    "f1_score=0\n",
    "left=0\n",
    "right=0\n",
    "\n",
    "n=10\n",
    "\n",
    "preds=(-prediction).argsort()[:,:n]\n",
    "#truth=(-y_test).argsort()[:,0]\n",
    "#truth=truth[:, None]\n",
    "window_num.append(-1) #solve the first number issue\n",
    "\n",
    "for i in range(len(test_data)): #for each blocks\n",
    "\n",
    "    num_preds=window_num[i] #we have how many targets(prediction)\n",
    "\n",
    "    #print(num_preds, \"predicts in the\",i+1,\"th block \" )\n",
    "    #print(\"In this block, the lable should be\",test_data_small.Labels.iloc[i])   \n",
    "    window_num[-1]=-1\n",
    "    left+=window_num[i-1]\n",
    "    right+=window_num[i]\n",
    "       \n",
    "    if int(sum([truth[j] in preds[j] for j in range(left+1,right)])/window_num[i]) is not 1: # anomaly prediction\n",
    "        if int(test_data.labels.iloc[i]) == 1: #label is anomaly\n",
    "            \n",
    "            TP+=1\n",
    "        else: #label is normal\n",
    "            FP+=1\n",
    "            \n",
    "    if int(sum([truth[j] in preds[j] for j in range(left+1,right)])/window_num[i]) is 1: #normal prediction\n",
    "        if int(test_data.labels.iloc[i]) == 0: #label is normal\n",
    "            TN+=1\n",
    "        else: #label is anomaly\n",
    "            FN+=1\n",
    "            \n",
    "            \n",
    "\n",
    "    #here is to check all things are correct!!\n",
    "    #print(window_num[i],left+1,right)\n",
    "    if i == len(test_data)-1: \n",
    "        print(\"This print is to check all ranges are correct:\")\n",
    "        print(\"The range will be in\",left+1,'and',right,\"and the lenth of the targets in this block is\",window_num[i])\n",
    "        print(\" Round\",i+1,\" done!!!\\n\")\n",
    "\n",
    "    \n",
    "\n",
    "                 \n",
    "        \n",
    "\n",
    "print(\"Top\",n,\":\")\n",
    "#print(\"We have\",len(test_data),\"blocks in total.\")\n",
    "#print(\"We have\",len(X_test),\"windows in total.\")\n",
    "print(\"True positive (anomaly label with anomaly prediction):\",TP)\n",
    "print(\"False positive (normal label with anomaly prediction):\",FP)\n",
    "print(\"False negative (anomaly label with normal prediction): \",FN)\n",
    "print(\"True negative (normal label with normal prediction):\",TN)\n",
    "            \n",
    "accuracy=(TP+TN)/(TP+TN+FP+FN)\n",
    "precision=TP/(TP+FP)\n",
    "recall=TP/(TP+FN)\n",
    "f1_score=(2*recall*precision)/(recall+precision)\n",
    "\n",
    "print(\"Accuracy:\",accuracy)\n",
    "print(\"Precision:\",precision)\n",
    "print(\"Recall:\",recall)\n",
    "print(\"F1 score:\",f1_score)\n",
    "print(\"---The runing time is: %s seconds ---\" % (time.time() - start_time))         \n"
   ]
  },
  {
   "cell_type": "code",
   "execution_count": null,
   "metadata": {},
   "outputs": [],
   "source": []
  },
  {
   "cell_type": "code",
   "execution_count": null,
   "metadata": {},
   "outputs": [],
   "source": []
  },
  {
   "cell_type": "code",
   "execution_count": 1,
   "metadata": {},
   "outputs": [
    {
     "ename": "NameError",
     "evalue": "name 'test_data' is not defined",
     "output_type": "error",
     "traceback": [
      "\u001b[1;31m---------------------------------------------------------------------------\u001b[0m",
      "\u001b[1;31mNameError\u001b[0m                                 Traceback (most recent call last)",
      "\u001b[1;32m<ipython-input-1-45109238d9ab>\u001b[0m in \u001b[0;36m<module>\u001b[1;34m\u001b[0m\n\u001b[1;32m----> 1\u001b[1;33m \u001b[0mtest_data\u001b[0m\u001b[1;33m\u001b[0m\u001b[1;33m\u001b[0m\u001b[0m\n\u001b[0m",
      "\u001b[1;31mNameError\u001b[0m: name 'test_data' is not defined"
     ]
    }
   ],
   "source": [
    "test_data"
   ]
  },
  {
   "cell_type": "code",
   "execution_count": null,
   "metadata": {},
   "outputs": [],
   "source": []
  }
 ],
 "metadata": {
  "kernelspec": {
   "display_name": "Python 3",
   "language": "python",
   "name": "python3"
  },
  "language_info": {
   "codemirror_mode": {
    "name": "ipython",
    "version": 3
   },
   "file_extension": ".py",
   "mimetype": "text/x-python",
   "name": "python",
   "nbconvert_exporter": "python",
   "pygments_lexer": "ipython3",
   "version": "3.7.4"
  }
 },
 "nbformat": 4,
 "nbformat_minor": 2
}
