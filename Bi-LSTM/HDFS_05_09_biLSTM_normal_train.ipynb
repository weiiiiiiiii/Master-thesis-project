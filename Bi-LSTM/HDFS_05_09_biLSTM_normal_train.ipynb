{
 "cells": [
  {
   "cell_type": "markdown",
   "metadata": {},
   "source": [
    "# Import packages"
   ]
  },
  {
   "cell_type": "code",
   "execution_count": 1,
   "metadata": {},
   "outputs": [],
   "source": [
    "import numpy as np\n",
    "from numpy import array\n",
    "from pickle import dump\n",
    "import os\n",
    "import zipfile\n",
    "\n",
    "# pandas is a data analysis tool, contains object DataFrame\n",
    "import pandas as pd\n",
    "#import torch\n",
    "#\n",
    "import random\n",
    "\n",
    "# regex\n",
    "import re\n",
    "\n",
    "# datetime objects\n",
    "import datetime\n",
    "\n",
    "# plotting packages\n",
    "import matplotlib.pyplot as plt\n",
    "import seaborn as sns\n",
    "sns.set_style('whitegrid')\n",
    "\n",
    "# used for creating the dictionary\n",
    "from sklearn.feature_extraction.text import CountVectorizer\n",
    "from sklearn.model_selection import train_test_split\n",
    "\n",
    "# used for flattening lists \n",
    "from itertools import chain\n",
    "from itertools import compress\n",
    "\n",
    "# NLTK and WordNet lemmatizer\n",
    "import nltk\n",
    "from nltk.stem import WordNetLemmatizer\n",
    "\n",
    "\n",
    "\n",
    "import tensorflow as tf\n",
    "from tensorflow import keras\n",
    "from tensorflow.keras import layers\n",
    "\n",
    "\n",
    "from keras.preprocessing.text import Tokenizer\n",
    "from keras.utils import to_categorical\n",
    "from keras.models import Sequential\n",
    "from keras.layers import Dense\n",
    "from keras.layers import LSTM\n",
    "from keras.layers import Embedding\n",
    "from keras.preprocessing.sequence import pad_sequences\n",
    "from keras.layers.core import Dense, SpatialDropout1D\n",
    "from keras.callbacks import EarlyStopping, ModelCheckpoint\n",
    "from keras.preprocessing.text import Tokenizer\n",
    "from keras.preprocessing import sequence\n",
    "\n",
    "from sklearn.model_selection import train_test_split\n",
    "import numpy\n",
    "import itertools\n",
    "import json\n",
    "from sklearn.model_selection import train_test_split\n",
    "import sys, os, re, csv, codecs, numpy as np, pandas as pd\n",
    "\n",
    "from keras.preprocessing.text import Tokenizer\n",
    "from keras.preprocessing.sequence import pad_sequences\n",
    "from keras.layers import Dense, Input, LSTM, Embedding, Dropout, Activation\n",
    "from keras.layers import Bidirectional, GlobalMaxPool1D\n",
    "from keras.models import Model\n",
    "from keras import initializers, regularizers, constraints, optimizers, layers\n",
    "\n",
    "from keras.layers import Input, Dense, LSTM, Flatten, concatenate\n",
    "from keras.models import Model\n",
    "from keras.optimizers import Adam\n",
    "from keras_self_attention import SeqSelfAttention\n",
    "import numpy as np \n",
    "import numpy as np\n",
    "from sklearn.model_selection import train_test_split\n",
    "\n",
    "import numpy as np\n",
    "import pandas as pd\n",
    "from pandas import Series, DataFrame\n",
    "import matplotlib.pyplot as plt\n",
    "\n",
    "# load and evaluate a saved model\n",
    "from numpy import loadtxt\n",
    "from keras.models import load_model\n",
    "from itertools import repeat\n",
    "from keras.callbacks import Callback\n",
    " "
   ]
  },
  {
   "cell_type": "markdown",
   "metadata": {},
   "source": [
    "# Training Data"
   ]
  },
  {
   "cell_type": "code",
   "execution_count": 2,
   "metadata": {},
   "outputs": [],
   "source": [
    "train_data= pd.read_pickle(\"C:\\\\Users\\\\A373503\\\\Desktop\\\\Complete_4_models\\\\HDFS\\\\Data\\\\HDFS_train_normal_data.pkl\")\n",
    "word2id=pd.read_pickle('C:\\\\Users\\\\A373503\\\\Desktop\\\\Complete_4_models\\\\HDFS\\\\Data\\\\word2id_train_normal.pkl')"
   ]
  },
  {
   "cell_type": "code",
   "execution_count": 3,
   "metadata": {},
   "outputs": [],
   "source": [
    "word2id[\"unknown\"]=len(word2id)+1"
   ]
  },
  {
   "cell_type": "code",
   "execution_count": 4,
   "metadata": {},
   "outputs": [
    {
     "name": "stdout",
     "output_type": "stream",
     "text": [
      "the size of the data: 446541\n",
      "the size of the vocab: 52\n"
     ]
    },
    {
     "data": {
      "text/html": [
       "<div>\n",
       "<style scoped>\n",
       "    .dataframe tbody tr th:only-of-type {\n",
       "        vertical-align: middle;\n",
       "    }\n",
       "\n",
       "    .dataframe tbody tr th {\n",
       "        vertical-align: top;\n",
       "    }\n",
       "\n",
       "    .dataframe thead th {\n",
       "        text-align: right;\n",
       "    }\n",
       "</style>\n",
       "<table border=\"1\" class=\"dataframe\">\n",
       "  <thead>\n",
       "    <tr style=\"text-align: right;\">\n",
       "      <th></th>\n",
       "      <th>Blockid</th>\n",
       "      <th>EventSequence</th>\n",
       "      <th>Length</th>\n",
       "    </tr>\n",
       "    <tr>\n",
       "      <th>labels</th>\n",
       "      <th></th>\n",
       "      <th></th>\n",
       "      <th></th>\n",
       "    </tr>\n",
       "  </thead>\n",
       "  <tbody>\n",
       "    <tr>\n",
       "      <td>0</td>\n",
       "      <td>446541</td>\n",
       "      <td>446541</td>\n",
       "      <td>446541</td>\n",
       "    </tr>\n",
       "  </tbody>\n",
       "</table>\n",
       "</div>"
      ],
      "text/plain": [
       "        Blockid  EventSequence  Length\n",
       "labels                                \n",
       "0        446541         446541  446541"
      ]
     },
     "execution_count": 4,
     "metadata": {},
     "output_type": "execute_result"
    }
   ],
   "source": [
    "print(\"the size of the data:\",len(train_data))\n",
    "print(\"the size of the vocab:\",len(word2id))\n",
    "train_data.groupby(['labels']).count()"
   ]
  },
  {
   "cell_type": "code",
   "execution_count": 5,
   "metadata": {},
   "outputs": [
    {
     "data": {
      "text/html": [
       "<div>\n",
       "<style scoped>\n",
       "    .dataframe tbody tr th:only-of-type {\n",
       "        vertical-align: middle;\n",
       "    }\n",
       "\n",
       "    .dataframe tbody tr th {\n",
       "        vertical-align: top;\n",
       "    }\n",
       "\n",
       "    .dataframe thead th {\n",
       "        text-align: right;\n",
       "    }\n",
       "</style>\n",
       "<table border=\"1\" class=\"dataframe\">\n",
       "  <thead>\n",
       "    <tr style=\"text-align: right;\">\n",
       "      <th></th>\n",
       "      <th>Blockid</th>\n",
       "      <th>EventSequence</th>\n",
       "      <th>labels</th>\n",
       "      <th>Length</th>\n",
       "    </tr>\n",
       "  </thead>\n",
       "  <tbody>\n",
       "    <tr>\n",
       "      <td>569963</td>\n",
       "      <td>blk_-8263499994297877702</td>\n",
       "      <td>[2, 2, 2, 12, 3, 4, 3, 4, 3, 4, 5, 5, 5, 6, 6,...</td>\n",
       "      <td>0</td>\n",
       "      <td>19</td>\n",
       "    </tr>\n",
       "    <tr>\n",
       "      <td>486412</td>\n",
       "      <td>blk_6623683650071326961</td>\n",
       "      <td>[2, 11, 2, 2, 3, 4, 3, 4, 3, 4, 5, 5, 14]</td>\n",
       "      <td>0</td>\n",
       "      <td>13</td>\n",
       "    </tr>\n",
       "    <tr>\n",
       "      <td>171779</td>\n",
       "      <td>blk_2082025639925650040</td>\n",
       "      <td>[2, 2, 2, 12, 3, 4, 3, 4, 3, 4, 5, 5, 5, 9, 10...</td>\n",
       "      <td>0</td>\n",
       "      <td>25</td>\n",
       "    </tr>\n",
       "    <tr>\n",
       "      <td>224584</td>\n",
       "      <td>blk_5448888175997650632</td>\n",
       "      <td>[2, 2, 11, 2, 3, 4, 3, 4, 3, 4, 5, 5, 5, 6, 6,...</td>\n",
       "      <td>0</td>\n",
       "      <td>19</td>\n",
       "    </tr>\n",
       "    <tr>\n",
       "      <td>536913</td>\n",
       "      <td>blk_4492763112427066795</td>\n",
       "      <td>[2, 2, 11, 2, 3, 4, 3, 4, 3, 4, 5, 5, 14]</td>\n",
       "      <td>0</td>\n",
       "      <td>13</td>\n",
       "    </tr>\n",
       "  </tbody>\n",
       "</table>\n",
       "</div>"
      ],
      "text/plain": [
       "                         Blockid  \\\n",
       "569963  blk_-8263499994297877702   \n",
       "486412   blk_6623683650071326961   \n",
       "171779   blk_2082025639925650040   \n",
       "224584   blk_5448888175997650632   \n",
       "536913   blk_4492763112427066795   \n",
       "\n",
       "                                            EventSequence labels  Length  \n",
       "569963  [2, 2, 2, 12, 3, 4, 3, 4, 3, 4, 5, 5, 5, 6, 6,...      0      19  \n",
       "486412          [2, 11, 2, 2, 3, 4, 3, 4, 3, 4, 5, 5, 14]      0      13  \n",
       "171779  [2, 2, 2, 12, 3, 4, 3, 4, 3, 4, 5, 5, 5, 9, 10...      0      25  \n",
       "224584  [2, 2, 11, 2, 3, 4, 3, 4, 3, 4, 5, 5, 5, 6, 6,...      0      19  \n",
       "536913          [2, 2, 11, 2, 3, 4, 3, 4, 3, 4, 5, 5, 14]      0      13  "
      ]
     },
     "execution_count": 5,
     "metadata": {},
     "output_type": "execute_result"
    }
   ],
   "source": [
    "train_data.head()"
   ]
  },
  {
   "cell_type": "markdown",
   "metadata": {},
   "source": [
    "# Test data"
   ]
  },
  {
   "cell_type": "code",
   "execution_count": 6,
   "metadata": {},
   "outputs": [
    {
     "data": {
      "text/html": [
       "<div>\n",
       "<style scoped>\n",
       "    .dataframe tbody tr th:only-of-type {\n",
       "        vertical-align: middle;\n",
       "    }\n",
       "\n",
       "    .dataframe tbody tr th {\n",
       "        vertical-align: top;\n",
       "    }\n",
       "\n",
       "    .dataframe thead th {\n",
       "        text-align: right;\n",
       "    }\n",
       "</style>\n",
       "<table border=\"1\" class=\"dataframe\">\n",
       "  <thead>\n",
       "    <tr style=\"text-align: right;\">\n",
       "      <th></th>\n",
       "      <th>Blockid</th>\n",
       "      <th>Preprocess_to_log_lines</th>\n",
       "      <th>labels</th>\n",
       "      <th>Length</th>\n",
       "    </tr>\n",
       "  </thead>\n",
       "  <tbody>\n",
       "    <tr>\n",
       "      <td>130892</td>\n",
       "      <td>blk_-7677011170870236960</td>\n",
       "      <td>[_info_dfs_fsnamesystem_block_namesystem_alloc...</td>\n",
       "      <td>0</td>\n",
       "      <td>23</td>\n",
       "    </tr>\n",
       "    <tr>\n",
       "      <td>174562</td>\n",
       "      <td>blk_6638067388838485468</td>\n",
       "      <td>[_info_dfs_datanode_dataxceiver_receiving_bloc...</td>\n",
       "      <td>0</td>\n",
       "      <td>25</td>\n",
       "    </tr>\n",
       "    <tr>\n",
       "      <td>45990</td>\n",
       "      <td>blk_-2587859430834379342</td>\n",
       "      <td>[_info_dfs_fsnamesystem_block_namesystem_alloc...</td>\n",
       "      <td>0</td>\n",
       "      <td>20</td>\n",
       "    </tr>\n",
       "    <tr>\n",
       "      <td>192504</td>\n",
       "      <td>blk_7519767082407935685</td>\n",
       "      <td>[_info_dfs_datanode_dataxceiver_receiving_bloc...</td>\n",
       "      <td>0</td>\n",
       "      <td>19</td>\n",
       "    </tr>\n",
       "    <tr>\n",
       "      <td>43736</td>\n",
       "      <td>blk_-2548681213192465965</td>\n",
       "      <td>[_info_dfs_fsnamesystem_block_namesystem_alloc...</td>\n",
       "      <td>0</td>\n",
       "      <td>19</td>\n",
       "    </tr>\n",
       "  </tbody>\n",
       "</table>\n",
       "</div>"
      ],
      "text/plain": [
       "                         Blockid  \\\n",
       "130892  blk_-7677011170870236960   \n",
       "174562   blk_6638067388838485468   \n",
       "45990   blk_-2587859430834379342   \n",
       "192504   blk_7519767082407935685   \n",
       "43736   blk_-2548681213192465965   \n",
       "\n",
       "                                  Preprocess_to_log_lines labels  Length  \n",
       "130892  [_info_dfs_fsnamesystem_block_namesystem_alloc...      0      23  \n",
       "174562  [_info_dfs_datanode_dataxceiver_receiving_bloc...      0      25  \n",
       "45990   [_info_dfs_fsnamesystem_block_namesystem_alloc...      0      20  \n",
       "192504  [_info_dfs_datanode_dataxceiver_receiving_bloc...      0      19  \n",
       "43736   [_info_dfs_fsnamesystem_block_namesystem_alloc...      0      19  "
      ]
     },
     "execution_count": 6,
     "metadata": {},
     "output_type": "execute_result"
    }
   ],
   "source": [
    "test_data=pd.read_pickle(\"C:\\\\Users\\\\A373503\\\\Desktop\\\\Complete_4_models\\\\HDFS\\\\Data\\\\HDFS_test_data.pkl\")\n",
    "test_data.head()"
   ]
  },
  {
   "cell_type": "code",
   "execution_count": 7,
   "metadata": {},
   "outputs": [
    {
     "name": "stdout",
     "output_type": "stream",
     "text": [
      "the size of the data: 115013\n"
     ]
    },
    {
     "data": {
      "text/html": [
       "<div>\n",
       "<style scoped>\n",
       "    .dataframe tbody tr th:only-of-type {\n",
       "        vertical-align: middle;\n",
       "    }\n",
       "\n",
       "    .dataframe tbody tr th {\n",
       "        vertical-align: top;\n",
       "    }\n",
       "\n",
       "    .dataframe thead th {\n",
       "        text-align: right;\n",
       "    }\n",
       "</style>\n",
       "<table border=\"1\" class=\"dataframe\">\n",
       "  <thead>\n",
       "    <tr style=\"text-align: right;\">\n",
       "      <th></th>\n",
       "      <th>Blockid</th>\n",
       "      <th>Preprocess_to_log_lines</th>\n",
       "      <th>Length</th>\n",
       "    </tr>\n",
       "    <tr>\n",
       "      <th>labels</th>\n",
       "      <th></th>\n",
       "      <th></th>\n",
       "      <th></th>\n",
       "    </tr>\n",
       "  </thead>\n",
       "  <tbody>\n",
       "    <tr>\n",
       "      <td>0</td>\n",
       "      <td>111682</td>\n",
       "      <td>111682</td>\n",
       "      <td>111682</td>\n",
       "    </tr>\n",
       "    <tr>\n",
       "      <td>1</td>\n",
       "      <td>3331</td>\n",
       "      <td>3331</td>\n",
       "      <td>3331</td>\n",
       "    </tr>\n",
       "  </tbody>\n",
       "</table>\n",
       "</div>"
      ],
      "text/plain": [
       "        Blockid  Preprocess_to_log_lines  Length\n",
       "labels                                          \n",
       "0        111682                   111682  111682\n",
       "1          3331                     3331    3331"
      ]
     },
     "execution_count": 7,
     "metadata": {},
     "output_type": "execute_result"
    }
   ],
   "source": [
    "print(\"the size of the data:\",len(test_data))\n",
    "test_data.groupby(['labels']).count()"
   ]
  },
  {
   "cell_type": "code",
   "execution_count": 8,
   "metadata": {},
   "outputs": [
    {
     "name": "stdout",
     "output_type": "stream",
     "text": [
      "The size of training data: 446541\n",
      "The size of test data: 115013\n"
     ]
    }
   ],
   "source": [
    "print(\"The size of training data:\",len(train_data))\n",
    "print(\"The size of test data:\",len(test_data))"
   ]
  },
  {
   "cell_type": "markdown",
   "metadata": {},
   "source": [
    "<b> To avoid ignoring the short lengths logs: to do the same as volvo data, only padding on test data"
   ]
  },
  {
   "cell_type": "code",
   "execution_count": 9,
   "metadata": {},
   "outputs": [],
   "source": [
    "def padding_short_logs(data,window_size):\n",
    "    for i in range(len(data)):\n",
    "        if len(data.EventSequence.iloc[i]) < window_size+1:\n",
    "            data.EventSequence.iloc[i]=pad_sequences([data.EventSequence.iloc[i]], maxlen=window_size+1)[0]\n",
    "            #print(data.EventSequence.iloc[i])"
   ]
  },
  {
   "cell_type": "code",
   "execution_count": 42,
   "metadata": {},
   "outputs": [],
   "source": [
    "data=train_data\n",
    "window_size=11\n",
    "w_s=10\n",
    "padding_short_logs(data,window_size)"
   ]
  },
  {
   "cell_type": "code",
   "execution_count": 11,
   "metadata": {},
   "outputs": [
    {
     "data": {
      "text/html": [
       "<div>\n",
       "<style scoped>\n",
       "    .dataframe tbody tr th:only-of-type {\n",
       "        vertical-align: middle;\n",
       "    }\n",
       "\n",
       "    .dataframe tbody tr th {\n",
       "        vertical-align: top;\n",
       "    }\n",
       "\n",
       "    .dataframe thead th {\n",
       "        text-align: right;\n",
       "    }\n",
       "</style>\n",
       "<table border=\"1\" class=\"dataframe\">\n",
       "  <thead>\n",
       "    <tr style=\"text-align: right;\">\n",
       "      <th></th>\n",
       "      <th>Blockid</th>\n",
       "      <th>EventSequence</th>\n",
       "      <th>labels</th>\n",
       "      <th>Length</th>\n",
       "    </tr>\n",
       "  </thead>\n",
       "  <tbody>\n",
       "  </tbody>\n",
       "</table>\n",
       "</div>"
      ],
      "text/plain": [
       "Empty DataFrame\n",
       "Columns: [Blockid, EventSequence, labels, Length]\n",
       "Index: []"
      ]
     },
     "execution_count": 11,
     "metadata": {},
     "output_type": "execute_result"
    }
   ],
   "source": [
    "train_data[train_data[\"Length\"] < window_size]"
   ]
  },
  {
   "cell_type": "markdown",
   "metadata": {},
   "source": [
    "# Creating the input and target"
   ]
  },
  {
   "cell_type": "code",
   "execution_count": 28,
   "metadata": {},
   "outputs": [],
   "source": [
    "volab=len(word2id)\n",
    "def generate_for_bilstm(data, self_defined_size,step):\n",
    "    x_left = []\n",
    "    x_right= []\n",
    "    x=[]\n",
    "    y = []\n",
    "    seq=[]\n",
    "    for i in range(len(data)):\n",
    "        for item in range(0,len(data[\"EventSequence\"].iloc[i])-self_defined_size+1,step):\n",
    "            seq=data.EventSequence.iloc[i]\n",
    "            sentence=seq[item:item+self_defined_size]\n",
    "            left_inputs=sentence[:5]\n",
    "            right_inputs=sentence[6:][::-1]\n",
    "            target=sentence[5]\n",
    "            #target=seq[item+window_size]\n",
    "            x.append(sentence)    \n",
    "            x_left.append(left_inputs)\n",
    "            x_right.append(right_inputs)\n",
    "            y.append(target)\n",
    "            \n",
    "    x= np.array(x)      \n",
    "    x_left=np.array(x_left)\n",
    "    x_right=np.array(x_right)\n",
    "    #y=np.array(y)\n",
    "    y=to_categorical(y, volab+1)\n",
    "\n",
    "    return x_left, x_right,y,x"
   ]
  },
  {
   "cell_type": "code",
   "execution_count": 29,
   "metadata": {},
   "outputs": [
    {
     "data": {
      "text/plain": [
       "[[2, 2, 2, 12, 3, 4, 3, 4, 3, 4, 5, 5, 5, 6, 6, 6, 7, 7, 8]]"
      ]
     },
     "execution_count": 29,
     "metadata": {},
     "output_type": "execute_result"
    }
   ],
   "source": [
    "list(train_data[:1].EventSequence)"
   ]
  },
  {
   "cell_type": "code",
   "execution_count": 36,
   "metadata": {},
   "outputs": [],
   "source": [
    "x_left_n, x_right_n,y_n,x_n=generate_for_bilstm(train_data[:1], 11,1)"
   ]
  },
  {
   "cell_type": "code",
   "execution_count": 37,
   "metadata": {},
   "outputs": [
    {
     "data": {
      "text/plain": [
       "array([[ 2,  2,  2, 12,  3,  4,  3,  4,  3,  4,  5],\n",
       "       [ 2,  2, 12,  3,  4,  3,  4,  3,  4,  5,  5],\n",
       "       [ 2, 12,  3,  4,  3,  4,  3,  4,  5,  5,  5],\n",
       "       [12,  3,  4,  3,  4,  3,  4,  5,  5,  5,  6],\n",
       "       [ 3,  4,  3,  4,  3,  4,  5,  5,  5,  6,  6],\n",
       "       [ 4,  3,  4,  3,  4,  5,  5,  5,  6,  6,  6],\n",
       "       [ 3,  4,  3,  4,  5,  5,  5,  6,  6,  6,  7],\n",
       "       [ 4,  3,  4,  5,  5,  5,  6,  6,  6,  7,  7],\n",
       "       [ 3,  4,  5,  5,  5,  6,  6,  6,  7,  7,  8]])"
      ]
     },
     "execution_count": 37,
     "metadata": {},
     "output_type": "execute_result"
    }
   ],
   "source": [
    "x_n"
   ]
  },
  {
   "cell_type": "code",
   "execution_count": 32,
   "metadata": {},
   "outputs": [],
   "source": [
    "x_left, x_right,y,x=generate_for_bilstm(train_data, 11,1)"
   ]
  },
  {
   "cell_type": "code",
   "execution_count": 33,
   "metadata": {},
   "outputs": [
    {
     "data": {
      "text/plain": [
       "array([[ 2,  2,  2, ...,  3,  4,  5],\n",
       "       [ 2,  2, 12, ...,  4,  5,  5],\n",
       "       [ 2, 12,  3, ...,  5,  5,  5],\n",
       "       ...,\n",
       "       [ 2,  2, 12, ...,  3,  4,  5],\n",
       "       [ 2, 12,  2, ...,  4,  5,  5],\n",
       "       [12,  2,  3, ...,  5,  5, 14]])"
      ]
     },
     "execution_count": 33,
     "metadata": {},
     "output_type": "execute_result"
    }
   ],
   "source": [
    "x"
   ]
  },
  {
   "cell_type": "code",
   "execution_count": 34,
   "metadata": {},
   "outputs": [
    {
     "data": {
      "text/plain": [
       "4241476"
      ]
     },
     "execution_count": 34,
     "metadata": {},
     "output_type": "execute_result"
    }
   ],
   "source": [
    "len(x_left) #3794935"
   ]
  },
  {
   "cell_type": "code",
   "execution_count": 35,
   "metadata": {},
   "outputs": [
    {
     "name": "stdout",
     "output_type": "stream",
     "text": [
      "The first big window is: [ 2  2  2 12  3  4  3  4  3  4  5]\n",
      "The first left input is: [ 2  2  2 12  3]\n",
      "The first right input is: [5 4 3 4 3]\n",
      "The first target is: [0. 0. 0. 0. 1. 0. 0. 0. 0. 0. 0. 0. 0. 0. 0. 0. 0. 0. 0. 0. 0. 0. 0. 0.\n",
      " 0. 0. 0. 0. 0. 0. 0. 0. 0. 0. 0. 0. 0. 0. 0. 0. 0. 0. 0. 0. 0. 0. 0. 0.\n",
      " 0. 0. 0. 0. 0.]\n"
     ]
    }
   ],
   "source": [
    "print(\"The first big window is:\",x[0])\n",
    "print(\"The first left input is:\",x_left[0])\n",
    "print(\"The first right input is:\",x_right[0])\n",
    "print(\"The first target is:\",y[0])"
   ]
  },
  {
   "cell_type": "markdown",
   "metadata": {},
   "source": [
    "# Fix the testdata: \n",
    "<b>transform the logs into integers as the same in the vocab and if unknown logs are found, transfer those into 0."
   ]
  },
  {
   "cell_type": "code",
   "execution_count": 38,
   "metadata": {},
   "outputs": [
    {
     "data": {
      "text/html": [
       "<div>\n",
       "<style scoped>\n",
       "    .dataframe tbody tr th:only-of-type {\n",
       "        vertical-align: middle;\n",
       "    }\n",
       "\n",
       "    .dataframe tbody tr th {\n",
       "        vertical-align: top;\n",
       "    }\n",
       "\n",
       "    .dataframe thead th {\n",
       "        text-align: right;\n",
       "    }\n",
       "</style>\n",
       "<table border=\"1\" class=\"dataframe\">\n",
       "  <thead>\n",
       "    <tr style=\"text-align: right;\">\n",
       "      <th></th>\n",
       "      <th>Blockid</th>\n",
       "      <th>Preprocess_to_log_lines</th>\n",
       "      <th>labels</th>\n",
       "      <th>Length</th>\n",
       "    </tr>\n",
       "  </thead>\n",
       "  <tbody>\n",
       "    <tr>\n",
       "      <td>130892</td>\n",
       "      <td>blk_-7677011170870236960</td>\n",
       "      <td>[_info_dfs_fsnamesystem_block_namesystem_alloc...</td>\n",
       "      <td>0</td>\n",
       "      <td>23</td>\n",
       "    </tr>\n",
       "    <tr>\n",
       "      <td>174562</td>\n",
       "      <td>blk_6638067388838485468</td>\n",
       "      <td>[_info_dfs_datanode_dataxceiver_receiving_bloc...</td>\n",
       "      <td>0</td>\n",
       "      <td>25</td>\n",
       "    </tr>\n",
       "    <tr>\n",
       "      <td>45990</td>\n",
       "      <td>blk_-2587859430834379342</td>\n",
       "      <td>[_info_dfs_fsnamesystem_block_namesystem_alloc...</td>\n",
       "      <td>0</td>\n",
       "      <td>20</td>\n",
       "    </tr>\n",
       "    <tr>\n",
       "      <td>192504</td>\n",
       "      <td>blk_7519767082407935685</td>\n",
       "      <td>[_info_dfs_datanode_dataxceiver_receiving_bloc...</td>\n",
       "      <td>0</td>\n",
       "      <td>19</td>\n",
       "    </tr>\n",
       "    <tr>\n",
       "      <td>43736</td>\n",
       "      <td>blk_-2548681213192465965</td>\n",
       "      <td>[_info_dfs_fsnamesystem_block_namesystem_alloc...</td>\n",
       "      <td>0</td>\n",
       "      <td>19</td>\n",
       "    </tr>\n",
       "  </tbody>\n",
       "</table>\n",
       "</div>"
      ],
      "text/plain": [
       "                         Blockid  \\\n",
       "130892  blk_-7677011170870236960   \n",
       "174562   blk_6638067388838485468   \n",
       "45990   blk_-2587859430834379342   \n",
       "192504   blk_7519767082407935685   \n",
       "43736   blk_-2548681213192465965   \n",
       "\n",
       "                                  Preprocess_to_log_lines labels  Length  \n",
       "130892  [_info_dfs_fsnamesystem_block_namesystem_alloc...      0      23  \n",
       "174562  [_info_dfs_datanode_dataxceiver_receiving_bloc...      0      25  \n",
       "45990   [_info_dfs_fsnamesystem_block_namesystem_alloc...      0      20  \n",
       "192504  [_info_dfs_datanode_dataxceiver_receiving_bloc...      0      19  \n",
       "43736   [_info_dfs_fsnamesystem_block_namesystem_alloc...      0      19  "
      ]
     },
     "execution_count": 38,
     "metadata": {},
     "output_type": "execute_result"
    }
   ],
   "source": [
    "test_data.head()"
   ]
  },
  {
   "cell_type": "code",
   "execution_count": 39,
   "metadata": {},
   "outputs": [
    {
     "data": {
      "text/html": [
       "<div>\n",
       "<style scoped>\n",
       "    .dataframe tbody tr th:only-of-type {\n",
       "        vertical-align: middle;\n",
       "    }\n",
       "\n",
       "    .dataframe tbody tr th {\n",
       "        vertical-align: top;\n",
       "    }\n",
       "\n",
       "    .dataframe thead th {\n",
       "        text-align: right;\n",
       "    }\n",
       "</style>\n",
       "<table border=\"1\" class=\"dataframe\">\n",
       "  <thead>\n",
       "    <tr style=\"text-align: right;\">\n",
       "      <th></th>\n",
       "      <th>Blockid</th>\n",
       "      <th>Preprocess_to_log_lines</th>\n",
       "      <th>labels</th>\n",
       "      <th>Length</th>\n",
       "    </tr>\n",
       "  </thead>\n",
       "  <tbody>\n",
       "    <tr>\n",
       "      <td>224054</td>\n",
       "      <td>blk_-5426282504664657154</td>\n",
       "      <td>[_info_dfs_datanode_dataxceiver_receiving_bloc...</td>\n",
       "      <td>1</td>\n",
       "      <td>2</td>\n",
       "    </tr>\n",
       "    <tr>\n",
       "      <td>320419</td>\n",
       "      <td>blk_1815563099310760915</td>\n",
       "      <td>[_info_dfs_datanode_dataxceiver_receiving_bloc...</td>\n",
       "      <td>1</td>\n",
       "      <td>2</td>\n",
       "    </tr>\n",
       "    <tr>\n",
       "      <td>319055</td>\n",
       "      <td>blk_-6624920247738861943</td>\n",
       "      <td>[_info_dfs_datanode_dataxceiver_receiving_bloc...</td>\n",
       "      <td>1</td>\n",
       "      <td>2</td>\n",
       "    </tr>\n",
       "    <tr>\n",
       "      <td>120040</td>\n",
       "      <td>blk_-5057408869195318440</td>\n",
       "      <td>[_info_dfs_fsnamesystem_block_namesystem_alloc...</td>\n",
       "      <td>1</td>\n",
       "      <td>2</td>\n",
       "    </tr>\n",
       "    <tr>\n",
       "      <td>59945</td>\n",
       "      <td>blk_-5648641265825038822</td>\n",
       "      <td>[_info_dfs_fsnamesystem_block_namesystem_alloc...</td>\n",
       "      <td>1</td>\n",
       "      <td>4</td>\n",
       "    </tr>\n",
       "    <tr>\n",
       "      <td>...</td>\n",
       "      <td>...</td>\n",
       "      <td>...</td>\n",
       "      <td>...</td>\n",
       "      <td>...</td>\n",
       "    </tr>\n",
       "    <tr>\n",
       "      <td>104248</td>\n",
       "      <td>blk_-1505433512692687124</td>\n",
       "      <td>[_info_dfs_fsnamesystem_block_namesystem_alloc...</td>\n",
       "      <td>1</td>\n",
       "      <td>4</td>\n",
       "    </tr>\n",
       "    <tr>\n",
       "      <td>496903</td>\n",
       "      <td>blk_4614053612572819297</td>\n",
       "      <td>[_info_dfs_datanode_dataxceiver_receiving_bloc...</td>\n",
       "      <td>1</td>\n",
       "      <td>2</td>\n",
       "    </tr>\n",
       "    <tr>\n",
       "      <td>61365</td>\n",
       "      <td>blk_3907620519002497721</td>\n",
       "      <td>[_info_dfs_fsnamesystem_block_namesystem_alloc...</td>\n",
       "      <td>1</td>\n",
       "      <td>4</td>\n",
       "    </tr>\n",
       "    <tr>\n",
       "      <td>72506</td>\n",
       "      <td>blk_4935208783324374013</td>\n",
       "      <td>[_info_dfs_fsnamesystem_block_namesystem_alloc...</td>\n",
       "      <td>1</td>\n",
       "      <td>4</td>\n",
       "    </tr>\n",
       "    <tr>\n",
       "      <td>42269</td>\n",
       "      <td>blk_9180164792650622841</td>\n",
       "      <td>[_info_dfs_fsnamesystem_block_namesystem_alloc...</td>\n",
       "      <td>1</td>\n",
       "      <td>2</td>\n",
       "    </tr>\n",
       "  </tbody>\n",
       "</table>\n",
       "<p>1224 rows × 4 columns</p>\n",
       "</div>"
      ],
      "text/plain": [
       "                         Blockid  \\\n",
       "224054  blk_-5426282504664657154   \n",
       "320419   blk_1815563099310760915   \n",
       "319055  blk_-6624920247738861943   \n",
       "120040  blk_-5057408869195318440   \n",
       "59945   blk_-5648641265825038822   \n",
       "...                          ...   \n",
       "104248  blk_-1505433512692687124   \n",
       "496903   blk_4614053612572819297   \n",
       "61365    blk_3907620519002497721   \n",
       "72506    blk_4935208783324374013   \n",
       "42269    blk_9180164792650622841   \n",
       "\n",
       "                                  Preprocess_to_log_lines labels  Length  \n",
       "224054  [_info_dfs_datanode_dataxceiver_receiving_bloc...      1       2  \n",
       "320419  [_info_dfs_datanode_dataxceiver_receiving_bloc...      1       2  \n",
       "319055  [_info_dfs_datanode_dataxceiver_receiving_bloc...      1       2  \n",
       "120040  [_info_dfs_fsnamesystem_block_namesystem_alloc...      1       2  \n",
       "59945   [_info_dfs_fsnamesystem_block_namesystem_alloc...      1       4  \n",
       "...                                                   ...    ...     ...  \n",
       "104248  [_info_dfs_fsnamesystem_block_namesystem_alloc...      1       4  \n",
       "496903  [_info_dfs_datanode_dataxceiver_receiving_bloc...      1       2  \n",
       "61365   [_info_dfs_fsnamesystem_block_namesystem_alloc...      1       4  \n",
       "72506   [_info_dfs_fsnamesystem_block_namesystem_alloc...      1       4  \n",
       "42269   [_info_dfs_fsnamesystem_block_namesystem_alloc...      1       2  \n",
       "\n",
       "[1224 rows x 4 columns]"
      ]
     },
     "execution_count": 39,
     "metadata": {},
     "output_type": "execute_result"
    }
   ],
   "source": [
    "test_data[test_data['Length']<window_size]"
   ]
  },
  {
   "cell_type": "code",
   "execution_count": 40,
   "metadata": {},
   "outputs": [],
   "source": [
    "inx=()\n",
    "forj=[]\n",
    "ends=[]\n",
    "for i in range(len(test_data)):\n",
    "\n",
    "    lists=test_data.Preprocess_to_log_lines.iloc[i]\n",
    "\n",
    "    for j in range(len(lists)):\n",
    "        \n",
    "        char=test_data.Preprocess_to_log_lines.iloc[i][j]\n",
    "        if char in word2id:\n",
    "            inx = word2id[char]\n",
    "        else:\n",
    "            inx = 52\n",
    "            \n",
    "        forj += [inx]\n",
    "        \n",
    "    ends+=[forj]\n",
    "    forj= []"
   ]
  },
  {
   "cell_type": "code",
   "execution_count": 41,
   "metadata": {},
   "outputs": [],
   "source": [
    "test_data['EventSequence']=ends"
   ]
  },
  {
   "cell_type": "code",
   "execution_count": 20,
   "metadata": {},
   "outputs": [
    {
     "data": {
      "text/html": [
       "<div>\n",
       "<style scoped>\n",
       "    .dataframe tbody tr th:only-of-type {\n",
       "        vertical-align: middle;\n",
       "    }\n",
       "\n",
       "    .dataframe tbody tr th {\n",
       "        vertical-align: top;\n",
       "    }\n",
       "\n",
       "    .dataframe thead th {\n",
       "        text-align: right;\n",
       "    }\n",
       "</style>\n",
       "<table border=\"1\" class=\"dataframe\">\n",
       "  <thead>\n",
       "    <tr style=\"text-align: right;\">\n",
       "      <th></th>\n",
       "      <th>Blockid</th>\n",
       "      <th>Preprocess_to_log_lines</th>\n",
       "      <th>labels</th>\n",
       "      <th>Length</th>\n",
       "      <th>EventSequence</th>\n",
       "    </tr>\n",
       "  </thead>\n",
       "  <tbody>\n",
       "    <tr>\n",
       "      <td>130892</td>\n",
       "      <td>blk_-7677011170870236960</td>\n",
       "      <td>[_info_dfs_fsnamesystem_block_namesystem_alloc...</td>\n",
       "      <td>0</td>\n",
       "      <td>23</td>\n",
       "      <td>[11, 2, 2, 2, 5, 5, 5, 3, 4, 3, 4, 3, 4, 10, 1...</td>\n",
       "    </tr>\n",
       "    <tr>\n",
       "      <td>174562</td>\n",
       "      <td>blk_6638067388838485468</td>\n",
       "      <td>[_info_dfs_datanode_dataxceiver_receiving_bloc...</td>\n",
       "      <td>0</td>\n",
       "      <td>25</td>\n",
       "      <td>[2, 12, 2, 2, 3, 4, 3, 4, 3, 4, 5, 5, 5, 10, 9...</td>\n",
       "    </tr>\n",
       "    <tr>\n",
       "      <td>45990</td>\n",
       "      <td>blk_-2587859430834379342</td>\n",
       "      <td>[_info_dfs_fsnamesystem_block_namesystem_alloc...</td>\n",
       "      <td>0</td>\n",
       "      <td>20</td>\n",
       "      <td>[15, 2, 2, 2, 5, 5, 5, 3, 4, 3, 4, 3, 4, 13, 6...</td>\n",
       "    </tr>\n",
       "    <tr>\n",
       "      <td>192504</td>\n",
       "      <td>blk_7519767082407935685</td>\n",
       "      <td>[_info_dfs_datanode_dataxceiver_receiving_bloc...</td>\n",
       "      <td>0</td>\n",
       "      <td>19</td>\n",
       "      <td>[2, 2, 2, 15, 3, 4, 3, 4, 3, 4, 5, 5, 5, 6, 6,...</td>\n",
       "    </tr>\n",
       "    <tr>\n",
       "      <td>43736</td>\n",
       "      <td>blk_-2548681213192465965</td>\n",
       "      <td>[_info_dfs_fsnamesystem_block_namesystem_alloc...</td>\n",
       "      <td>0</td>\n",
       "      <td>19</td>\n",
       "      <td>[15, 2, 2, 2, 5, 5, 5, 3, 4, 3, 4, 3, 4, 6, 6,...</td>\n",
       "    </tr>\n",
       "  </tbody>\n",
       "</table>\n",
       "</div>"
      ],
      "text/plain": [
       "                         Blockid  \\\n",
       "130892  blk_-7677011170870236960   \n",
       "174562   blk_6638067388838485468   \n",
       "45990   blk_-2587859430834379342   \n",
       "192504   blk_7519767082407935685   \n",
       "43736   blk_-2548681213192465965   \n",
       "\n",
       "                                  Preprocess_to_log_lines labels  Length  \\\n",
       "130892  [_info_dfs_fsnamesystem_block_namesystem_alloc...      0      23   \n",
       "174562  [_info_dfs_datanode_dataxceiver_receiving_bloc...      0      25   \n",
       "45990   [_info_dfs_fsnamesystem_block_namesystem_alloc...      0      20   \n",
       "192504  [_info_dfs_datanode_dataxceiver_receiving_bloc...      0      19   \n",
       "43736   [_info_dfs_fsnamesystem_block_namesystem_alloc...      0      19   \n",
       "\n",
       "                                            EventSequence  \n",
       "130892  [11, 2, 2, 2, 5, 5, 5, 3, 4, 3, 4, 3, 4, 10, 1...  \n",
       "174562  [2, 12, 2, 2, 3, 4, 3, 4, 3, 4, 5, 5, 5, 10, 9...  \n",
       "45990   [15, 2, 2, 2, 5, 5, 5, 3, 4, 3, 4, 3, 4, 13, 6...  \n",
       "192504  [2, 2, 2, 15, 3, 4, 3, 4, 3, 4, 5, 5, 5, 6, 6,...  \n",
       "43736   [15, 2, 2, 2, 5, 5, 5, 3, 4, 3, 4, 3, 4, 6, 6,...  "
      ]
     },
     "execution_count": 20,
     "metadata": {},
     "output_type": "execute_result"
    }
   ],
   "source": [
    "test_data.head()"
   ]
  },
  {
   "cell_type": "code",
   "execution_count": 43,
   "metadata": {},
   "outputs": [
    {
     "name": "stderr",
     "output_type": "stream",
     "text": [
      "C:\\Anaconda3\\lib\\site-packages\\pandas\\core\\indexing.py:205: SettingWithCopyWarning: \n",
      "A value is trying to be set on a copy of a slice from a DataFrame\n",
      "\n",
      "See the caveats in the documentation: http://pandas.pydata.org/pandas-docs/stable/user_guide/indexing.html#returning-a-view-versus-a-copy\n",
      "  self._setitem_with_indexer(indexer, value)\n"
     ]
    }
   ],
   "source": [
    "padding_short_logs(test_data,w_s)"
   ]
  },
  {
   "cell_type": "code",
   "execution_count": 44,
   "metadata": {},
   "outputs": [
    {
     "data": {
      "text/html": [
       "<div>\n",
       "<style scoped>\n",
       "    .dataframe tbody tr th:only-of-type {\n",
       "        vertical-align: middle;\n",
       "    }\n",
       "\n",
       "    .dataframe tbody tr th {\n",
       "        vertical-align: top;\n",
       "    }\n",
       "\n",
       "    .dataframe thead th {\n",
       "        text-align: right;\n",
       "    }\n",
       "</style>\n",
       "<table border=\"1\" class=\"dataframe\">\n",
       "  <thead>\n",
       "    <tr style=\"text-align: right;\">\n",
       "      <th></th>\n",
       "      <th>Blockid</th>\n",
       "      <th>Preprocess_to_log_lines</th>\n",
       "      <th>labels</th>\n",
       "      <th>Length</th>\n",
       "      <th>EventSequence</th>\n",
       "    </tr>\n",
       "  </thead>\n",
       "  <tbody>\n",
       "    <tr>\n",
       "      <td>224054</td>\n",
       "      <td>blk_-5426282504664657154</td>\n",
       "      <td>[_info_dfs_datanode_dataxceiver_receiving_bloc...</td>\n",
       "      <td>1</td>\n",
       "      <td>2</td>\n",
       "      <td>[0, 0, 0, 0, 0, 0, 0, 0, 0, 2, 29]</td>\n",
       "    </tr>\n",
       "    <tr>\n",
       "      <td>320419</td>\n",
       "      <td>blk_1815563099310760915</td>\n",
       "      <td>[_info_dfs_datanode_dataxceiver_receiving_bloc...</td>\n",
       "      <td>1</td>\n",
       "      <td>2</td>\n",
       "      <td>[0, 0, 0, 0, 0, 0, 0, 0, 0, 2, 29]</td>\n",
       "    </tr>\n",
       "    <tr>\n",
       "      <td>319055</td>\n",
       "      <td>blk_-6624920247738861943</td>\n",
       "      <td>[_info_dfs_datanode_dataxceiver_receiving_bloc...</td>\n",
       "      <td>1</td>\n",
       "      <td>2</td>\n",
       "      <td>[0, 0, 0, 0, 0, 0, 0, 0, 0, 2, 29]</td>\n",
       "    </tr>\n",
       "    <tr>\n",
       "      <td>120040</td>\n",
       "      <td>blk_-5057408869195318440</td>\n",
       "      <td>[_info_dfs_fsnamesystem_block_namesystem_alloc...</td>\n",
       "      <td>1</td>\n",
       "      <td>2</td>\n",
       "      <td>[0, 0, 0, 0, 0, 0, 0, 0, 0, 11, 52]</td>\n",
       "    </tr>\n",
       "    <tr>\n",
       "      <td>59945</td>\n",
       "      <td>blk_-5648641265825038822</td>\n",
       "      <td>[_info_dfs_fsnamesystem_block_namesystem_alloc...</td>\n",
       "      <td>1</td>\n",
       "      <td>4</td>\n",
       "      <td>[0, 0, 0, 0, 0, 0, 0, 15, 2, 2, 52]</td>\n",
       "    </tr>\n",
       "    <tr>\n",
       "      <td>...</td>\n",
       "      <td>...</td>\n",
       "      <td>...</td>\n",
       "      <td>...</td>\n",
       "      <td>...</td>\n",
       "      <td>...</td>\n",
       "    </tr>\n",
       "    <tr>\n",
       "      <td>104248</td>\n",
       "      <td>blk_-1505433512692687124</td>\n",
       "      <td>[_info_dfs_fsnamesystem_block_namesystem_alloc...</td>\n",
       "      <td>1</td>\n",
       "      <td>4</td>\n",
       "      <td>[0, 0, 0, 0, 0, 0, 0, 12, 2, 2, 52]</td>\n",
       "    </tr>\n",
       "    <tr>\n",
       "      <td>496903</td>\n",
       "      <td>blk_4614053612572819297</td>\n",
       "      <td>[_info_dfs_datanode_dataxceiver_receiving_bloc...</td>\n",
       "      <td>1</td>\n",
       "      <td>2</td>\n",
       "      <td>[0, 0, 0, 0, 0, 0, 0, 0, 0, 2, 29]</td>\n",
       "    </tr>\n",
       "    <tr>\n",
       "      <td>61365</td>\n",
       "      <td>blk_3907620519002497721</td>\n",
       "      <td>[_info_dfs_fsnamesystem_block_namesystem_alloc...</td>\n",
       "      <td>1</td>\n",
       "      <td>4</td>\n",
       "      <td>[0, 0, 0, 0, 0, 0, 0, 15, 2, 2, 52]</td>\n",
       "    </tr>\n",
       "    <tr>\n",
       "      <td>72506</td>\n",
       "      <td>blk_4935208783324374013</td>\n",
       "      <td>[_info_dfs_fsnamesystem_block_namesystem_alloc...</td>\n",
       "      <td>1</td>\n",
       "      <td>4</td>\n",
       "      <td>[0, 0, 0, 0, 0, 0, 0, 12, 2, 2, 52]</td>\n",
       "    </tr>\n",
       "    <tr>\n",
       "      <td>42269</td>\n",
       "      <td>blk_9180164792650622841</td>\n",
       "      <td>[_info_dfs_fsnamesystem_block_namesystem_alloc...</td>\n",
       "      <td>1</td>\n",
       "      <td>2</td>\n",
       "      <td>[0, 0, 0, 0, 0, 0, 0, 0, 0, 15, 52]</td>\n",
       "    </tr>\n",
       "  </tbody>\n",
       "</table>\n",
       "<p>1224 rows × 5 columns</p>\n",
       "</div>"
      ],
      "text/plain": [
       "                         Blockid  \\\n",
       "224054  blk_-5426282504664657154   \n",
       "320419   blk_1815563099310760915   \n",
       "319055  blk_-6624920247738861943   \n",
       "120040  blk_-5057408869195318440   \n",
       "59945   blk_-5648641265825038822   \n",
       "...                          ...   \n",
       "104248  blk_-1505433512692687124   \n",
       "496903   blk_4614053612572819297   \n",
       "61365    blk_3907620519002497721   \n",
       "72506    blk_4935208783324374013   \n",
       "42269    blk_9180164792650622841   \n",
       "\n",
       "                                  Preprocess_to_log_lines labels  Length  \\\n",
       "224054  [_info_dfs_datanode_dataxceiver_receiving_bloc...      1       2   \n",
       "320419  [_info_dfs_datanode_dataxceiver_receiving_bloc...      1       2   \n",
       "319055  [_info_dfs_datanode_dataxceiver_receiving_bloc...      1       2   \n",
       "120040  [_info_dfs_fsnamesystem_block_namesystem_alloc...      1       2   \n",
       "59945   [_info_dfs_fsnamesystem_block_namesystem_alloc...      1       4   \n",
       "...                                                   ...    ...     ...   \n",
       "104248  [_info_dfs_fsnamesystem_block_namesystem_alloc...      1       4   \n",
       "496903  [_info_dfs_datanode_dataxceiver_receiving_bloc...      1       2   \n",
       "61365   [_info_dfs_fsnamesystem_block_namesystem_alloc...      1       4   \n",
       "72506   [_info_dfs_fsnamesystem_block_namesystem_alloc...      1       4   \n",
       "42269   [_info_dfs_fsnamesystem_block_namesystem_alloc...      1       2   \n",
       "\n",
       "                              EventSequence  \n",
       "224054   [0, 0, 0, 0, 0, 0, 0, 0, 0, 2, 29]  \n",
       "320419   [0, 0, 0, 0, 0, 0, 0, 0, 0, 2, 29]  \n",
       "319055   [0, 0, 0, 0, 0, 0, 0, 0, 0, 2, 29]  \n",
       "120040  [0, 0, 0, 0, 0, 0, 0, 0, 0, 11, 52]  \n",
       "59945   [0, 0, 0, 0, 0, 0, 0, 15, 2, 2, 52]  \n",
       "...                                     ...  \n",
       "104248  [0, 0, 0, 0, 0, 0, 0, 12, 2, 2, 52]  \n",
       "496903   [0, 0, 0, 0, 0, 0, 0, 0, 0, 2, 29]  \n",
       "61365   [0, 0, 0, 0, 0, 0, 0, 15, 2, 2, 52]  \n",
       "72506   [0, 0, 0, 0, 0, 0, 0, 12, 2, 2, 52]  \n",
       "42269   [0, 0, 0, 0, 0, 0, 0, 0, 0, 15, 52]  \n",
       "\n",
       "[1224 rows x 5 columns]"
      ]
     },
     "execution_count": 44,
     "metadata": {},
     "output_type": "execute_result"
    }
   ],
   "source": [
    "test_data[test_data[\"Length\"] < window_size]"
   ]
  },
  {
   "cell_type": "code",
   "execution_count": 45,
   "metadata": {},
   "outputs": [],
   "source": [
    "x_left_test, x_right_test,y_test,x_test=generate_for_bilstm(test_data, window_size,1)"
   ]
  },
  {
   "cell_type": "code",
   "execution_count": 46,
   "metadata": {},
   "outputs": [
    {
     "data": {
      "text/plain": [
       "1097462"
      ]
     },
     "execution_count": 46,
     "metadata": {},
     "output_type": "execute_result"
    }
   ],
   "source": [
    "len(x_left_test)"
   ]
  },
  {
   "cell_type": "markdown",
   "metadata": {},
   "source": [
    "# model "
   ]
  },
  {
   "cell_type": "code",
   "execution_count": 47,
   "metadata": {},
   "outputs": [
    {
     "name": "stdout",
     "output_type": "stream",
     "text": [
      "Model: \"model\"\n",
      "__________________________________________________________________________________________________\n",
      "Layer (type)                    Output Shape         Param #     Connected to                     \n",
      "==================================================================================================\n",
      "input_1 (InputLayer)            [(None, 5)]          0                                            \n",
      "__________________________________________________________________________________________________\n",
      "input_2 (InputLayer)            [(None, 5)]          0                                            \n",
      "__________________________________________________________________________________________________\n",
      "embedding (Embedding)           (None, 5, 128)       6784        input_1[0][0]                    \n",
      "__________________________________________________________________________________________________\n",
      "embedding_1 (Embedding)         (None, 5, 128)       6784        input_2[0][0]                    \n",
      "__________________________________________________________________________________________________\n",
      "lstm (LSTM)                     (None, 64)           49408       embedding[0][0]                  \n",
      "__________________________________________________________________________________________________\n",
      "lstm_1 (LSTM)                   (None, 64)           49408       embedding_1[0][0]                \n",
      "__________________________________________________________________________________________________\n",
      "concatenate (Concatenate)       (None, 128)          0           lstm[0][0]                       \n",
      "                                                                 lstm_1[0][0]                     \n",
      "__________________________________________________________________________________________________\n",
      "dense (Dense)                   (None, 128)          16512       concatenate[0][0]                \n",
      "__________________________________________________________________________________________________\n",
      "dense_1 (Dense)                 (None, 53)           6837        dense[0][0]                      \n",
      "==================================================================================================\n",
      "Total params: 135,733\n",
      "Trainable params: 135,733\n",
      "Non-trainable params: 0\n",
      "__________________________________________________________________________________________________\n",
      "None\n"
     ]
    }
   ],
   "source": [
    "from keras.models import Model\n",
    "from keras.layers import Concatenate, Dense, LSTM, Input, concatenate\n",
    "from keras.optimizers import Adagrad\n",
    "\n",
    "first_input = Input(shape=(5, ))\n",
    "first_embedding = Embedding(len(word2id)+1,128)(first_input)\n",
    "first_lstm = LSTM(64)(first_embedding)\n",
    "#first_lstm = \n",
    "\n",
    "second_input = Input(shape=(5, ))\n",
    "second_embedding = Embedding(len(word2id)+1,128)(second_input)\n",
    "second_lstm = LSTM(64)(second_embedding)\n",
    "#second_lstm\n",
    "\n",
    "\n",
    "merge_one = concatenate([first_lstm, second_lstm])\n",
    "relu = Dense(128, activation='relu')(merge_one)\n",
    "softmax = Dense(len(word2id)+1, activation='softmax')(relu)\n",
    "model = Model(inputs=[first_input, second_input], outputs=softmax)\n",
    "print(model.summary())"
   ]
  },
  {
   "cell_type": "markdown",
   "metadata": {},
   "source": [
    "<b>validation_split</b>: Float between 0 and 1. Fraction of the training data to be used as validation data. The model will set apart this fraction of the training data, will not train on it, and will evaluate the loss and any model metrics on this data at the end of each epoch"
   ]
  },
  {
   "cell_type": "code",
   "execution_count": 48,
   "metadata": {},
   "outputs": [
    {
     "name": "stdout",
     "output_type": "stream",
     "text": [
      "Epoch 1/10\n",
      "59646/59646 [==============================] - 396s 7ms/step - loss: 0.0802 - accuracy: 0.9766 - recall: 0.9713 - precision: 0.9824 - true_positives: 1873248.6344 - true_negatives: 99241933.5370 - false_positives: 26061.2348 - false_negatives: 35487.3640 - val_loss: 0.0358 - val_accuracy: 0.9887 - val_recall: 0.9879 - val_precision: 0.9896 - val_true_positives: 419019.0000 - val_true_negatives: 22051508.0000 - val_false_positives: 4403.0000 - val_false_negatives: 5129.0000\n",
      "Epoch 2/10\n",
      "59646/59646 [==============================] - 383s 6ms/step - loss: 0.0356 - accuracy: 0.9888 - recall: 0.9882 - precision: 0.9896 - true_positives: 1886186.4494 - true_negatives: 99247589.1607 - false_positives: 19752.7301 - false_negatives: 22549.5490 - val_loss: 0.0343 - val_accuracy: 0.9891 - val_recall: 0.9886 - val_precision: 0.9899 - val_true_positives: 419312.0000 - val_true_negatives: 22051604.0000 - val_false_positives: 4289.0000 - val_false_negatives: 4836.0000\n",
      "Epoch 3/10\n",
      "59646/59646 [==============================] - 374s 6ms/step - loss: 0.0344 - accuracy: 0.9891 - recall: 0.9884 - precision: 0.9899 - true_positives: 1886658.5996 - true_negatives: 99247713.4914 - false_positives: 19303.3389 - false_negatives: 22077.3988 - val_loss: 0.0344 - val_accuracy: 0.9892 - val_recall: 0.9886 - val_precision: 0.9900 - val_true_positives: 419327.0000 - val_true_negatives: 22051688.0000 - val_false_positives: 4250.0000 - val_false_negatives: 4821.0000\n",
      "Epoch 4/10\n",
      "59646/59646 [==============================] - 373s 6ms/step - loss: 0.0340 - accuracy: 0.9891 - recall: 0.9885 - precision: 0.9899 - true_positives: 1886688.5457 - true_negatives: 99247743.2237 - false_positives: 19224.8891 - false_negatives: 22047.4527 - val_loss: 0.0347 - val_accuracy: 0.9892 - val_recall: 0.9882 - val_precision: 0.9904 - val_true_positives: 419125.0000 - val_true_negatives: 22051840.0000 - val_false_positives: 4061.0000 - val_false_negatives: 5023.0000\n",
      "Epoch 5/10\n",
      "59646/59646 [==============================] - 375s 6ms/step - loss: 0.0339 - accuracy: 0.9892 - recall: 0.9885 - precision: 0.9901 - true_positives: 1886837.4819 - true_negatives: 99247964.2671 - false_positives: 19050.8922 - false_negatives: 21898.5165 - val_loss: 0.0341 - val_accuracy: 0.9893 - val_recall: 0.9888 - val_precision: 0.9898 - val_true_positives: 419388.0000 - val_true_negatives: 22051612.0000 - val_false_positives: 4305.0000 - val_false_negatives: 4760.0000\n",
      "Epoch 6/10\n",
      "59646/59646 [==============================] - 389s 7ms/step - loss: 0.0340 - accuracy: 0.9893 - recall: 0.9886 - precision: 0.9901 - true_positives: 1886936.5475 - true_negatives: 99247876.7771 - false_positives: 18959.4777 - false_negatives: 21799.4509 - val_loss: 0.0349 - val_accuracy: 0.9891 - val_recall: 0.9883 - val_precision: 0.9899 - val_true_positives: 419199.0000 - val_true_negatives: 22051648.0000 - val_false_positives: 4283.0000 - val_false_negatives: 4949.0000\n",
      "Epoch 7/10\n",
      "59646/59646 [==============================] - 396s 7ms/step - loss: 0.0342 - accuracy: 0.9891 - recall: 0.9884 - precision: 0.9900 - true_positives: 1886670.9604 - true_negatives: 99247878.0426 - false_positives: 19049.3648 - false_negatives: 22065.0380 - val_loss: 0.0360 - val_accuracy: 0.9892 - val_recall: 0.9886 - val_precision: 0.9899 - val_true_positives: 419327.0000 - val_true_negatives: 22051640.0000 - val_false_positives: 4297.0000 - val_false_negatives: 4821.0000\n",
      "Epoch 8/10\n",
      "59646/59646 [==============================] - 397s 7ms/step - loss: 0.0342 - accuracy: 0.9892 - recall: 0.9886 - precision: 0.9900 - true_positives: 1886931.1840 - true_negatives: 99247697.6533 - false_positives: 18977.4712 - false_negatives: 21804.8144 - val_loss: 0.0349 - val_accuracy: 0.9892 - val_recall: 0.9887 - val_precision: 0.9899 - val_true_positives: 419344.0000 - val_true_negatives: 22051616.0000 - val_false_positives: 4299.0000 - val_false_negatives: 4804.0000\n",
      "Epoch 9/10\n",
      "59646/59646 [==============================] - 402s 7ms/step - loss: 0.0343 - accuracy: 0.9893 - recall: 0.9886 - precision: 0.9901 - true_positives: 1886926.4583 - true_negatives: 99247859.0889 - false_positives: 19005.8401 - false_negatives: 21809.5401 - val_loss: 0.0346 - val_accuracy: 0.9893 - val_recall: 0.9886 - val_precision: 0.9901 - val_true_positives: 419297.0000 - val_true_negatives: 22051716.0000 - val_false_positives: 4189.0000 - val_false_negatives: 4851.0000\n",
      "Epoch 10/10\n",
      "59646/59646 [==============================] - 402s 7ms/step - loss: 0.0343 - accuracy: 0.9892 - recall: 0.9885 - precision: 0.9900 - true_positives: 1886790.4694 - true_negatives: 99247964.3026 - false_positives: 19124.7670 - false_negatives: 21945.5290 - val_loss: 0.0348 - val_accuracy: 0.9894 - val_recall: 0.9889 - val_precision: 0.9898 - val_true_positives: 419423.0000 - val_true_negatives: 22051604.0000 - val_false_positives: 4318.0000 - val_false_negatives: 4725.0000\n",
      "\n",
      "Epoch 00010: ReduceLROnPlateau reducing learning rate to 0.0005000000237487257.\n"
     ]
    },
    {
     "data": {
      "text/plain": [
       "<tensorflow.python.keras.callbacks.History at 0x20a1dd797c8>"
      ]
     },
     "execution_count": 48,
     "metadata": {},
     "output_type": "execute_result"
    }
   ],
   "source": [
    "optim=tf.keras.optimizers.Adam(learning_rate=0.001)\n",
    "reduce_lr = tf.keras.callbacks.ReduceLROnPlateau( monitor=\"val_loss\", factor=0.5,\n",
    "           patience=5, verbose=1)\n",
    "logs = Callback()\n",
    "model.compile(loss='categorical_crossentropy', optimizer=optim, metrics=['accuracy',tf.keras.metrics.Recall(),tf.keras.metrics.Precision(),tf.keras.metrics.TruePositives(),tf.keras.metrics.TrueNegatives(), tf.keras.metrics.FalsePositives(), tf.keras.metrics.FalseNegatives()])\n",
    "model.fit([x_left,x_right], y, batch_size=64, epochs=10,shuffle = True,validation_split = 0.1, callbacks=[reduce_lr])"
   ]
  },
  {
   "cell_type": "code",
   "execution_count": 49,
   "metadata": {},
   "outputs": [
    {
     "name": "stderr",
     "output_type": "stream",
     "text": [
      "WARNING:absl:Found untraced functions such as lstm_cell_layer_call_and_return_conditional_losses, lstm_cell_layer_call_fn, lstm_cell_1_layer_call_and_return_conditional_losses, lstm_cell_1_layer_call_fn, lstm_cell_layer_call_fn while saving (showing 5 of 10). These functions will not be directly callable after loading.\n",
      "WARNING:absl:Found untraced functions such as lstm_cell_layer_call_and_return_conditional_losses, lstm_cell_layer_call_fn, lstm_cell_1_layer_call_and_return_conditional_losses, lstm_cell_1_layer_call_fn, lstm_cell_layer_call_fn while saving (showing 5 of 10). These functions will not be directly callable after loading.\n"
     ]
    },
    {
     "name": "stdout",
     "output_type": "stream",
     "text": [
      "INFO:tensorflow:Assets written to: hdfs_05_05_bilstm_normal_train.txt\\assets\n"
     ]
    },
    {
     "name": "stderr",
     "output_type": "stream",
     "text": [
      "INFO:tensorflow:Assets written to: hdfs_05_05_bilstm_normal_train.txt\\assets\n"
     ]
    }
   ],
   "source": [
    "# Save model\n",
    "model.save('hdfs_05_05_bilstm_normal_train.txt')\n",
    "\n",
    "# load model\n",
    "model = load_model('hdfs_05_05_bilstm_normal_train.txt')"
   ]
  },
  {
   "cell_type": "markdown",
   "metadata": {},
   "source": [
    "# softmax output"
   ]
  },
  {
   "cell_type": "code",
   "execution_count": 50,
   "metadata": {},
   "outputs": [
    {
     "name": "stdout",
     "output_type": "stream",
     "text": [
      "34296/34296 [==============================] - 43s 1ms/step\n"
     ]
    }
   ],
   "source": [
    "#softmax output\n",
    "prediction = model.predict([x_left_test,x_right_test], verbose=1)"
   ]
  },
  {
   "cell_type": "code",
   "execution_count": 51,
   "metadata": {},
   "outputs": [
    {
     "data": {
      "text/plain": [
       "1097462"
      ]
     },
     "execution_count": 51,
     "metadata": {},
     "output_type": "execute_result"
    }
   ],
   "source": [
    "len(prediction)"
   ]
  },
  {
   "cell_type": "markdown",
   "metadata": {},
   "source": [
    "# Point the target to the corresponding block"
   ]
  },
  {
   "cell_type": "code",
   "execution_count": 52,
   "metadata": {},
   "outputs": [
    {
     "data": {
      "text/plain": [
       "115013"
      ]
     },
     "execution_count": 52,
     "metadata": {},
     "output_type": "execute_result"
    }
   ],
   "source": [
    "len(test_data)"
   ]
  },
  {
   "cell_type": "code",
   "execution_count": 77,
   "metadata": {},
   "outputs": [],
   "source": [
    "def labeled_targets(data,window_size):\n",
    "    window_num=[]\n",
    "    for i in range(len(data)):        \n",
    "        window_n=len(data.EventSequence.iloc[i])-window_size+1\n",
    "        window_num.append(window_n)        \n",
    "    return window_num"
   ]
  },
  {
   "cell_type": "code",
   "execution_count": 78,
   "metadata": {},
   "outputs": [],
   "source": [
    "window_num=labeled_targets(test_data,window_size)"
   ]
  },
  {
   "cell_type": "code",
   "execution_count": 79,
   "metadata": {},
   "outputs": [
    {
     "name": "stdout",
     "output_type": "stream",
     "text": [
      "sum of the window_num 1097462\n",
      "window num of X_test 1097462\n"
     ]
    }
   ],
   "source": [
    "#check the functions are correct\n",
    "print(\"sum of the window_num\",sum(window_num))\n",
    "print(\"window num of X_test\",len(x_left_test))\n",
    "\n",
    "##################################33\n",
    "#if the two values are same: no error step now"
   ]
  },
  {
   "cell_type": "code",
   "execution_count": 66,
   "metadata": {},
   "outputs": [],
   "source": [
    "for i in window_num:\n",
    "    if i<1:\n",
    "        print(i)\n",
    "#make sure we do not have any negetive numbers\n",
    "#if we have the negetive number: we did not padding the short length logs"
   ]
  },
  {
   "cell_type": "markdown",
   "metadata": {},
   "source": [
    "#  Deeplog Method : "
   ]
  },
  {
   "cell_type": "code",
   "execution_count": 67,
   "metadata": {},
   "outputs": [
    {
     "data": {
      "text/plain": [
       "[<matplotlib.lines.Line2D at 0x20ac2c5de88>]"
      ]
     },
     "execution_count": 67,
     "metadata": {},
     "output_type": "execute_result"
    },
    {
     "data": {
      "image/png": "[encoded data removed]",
      "text/plain": [
       "<Figure size 432x288 with 1 Axes>"
      ]
     },
     "metadata": {
      "needs_background": "light"
     },
     "output_type": "display_data"
    }
   ],
   "source": [
    "#find the best threshold\n",
    "accs=list()\n",
    "\n",
    "for i in range(1,20):\n",
    "    preds=(-prediction).argsort()[:,:i]\n",
    "    truth=(-y_test).argsort()[:,0]\n",
    "    truth=truth[:, None]\n",
    "    \n",
    "    acc=sum([truth[i] in preds[i] for i in range(len(truth))])/len(truth)  \n",
    "    accs.append(acc)\n",
    "    \n",
    "x=np.arange(1,20)\n",
    "plt.xlabel('Threshold')\n",
    "plt.ylabel('Accuency')\n",
    "plt.plot(x,accs)\n",
    "       "
   ]
  },
  {
   "cell_type": "code",
   "execution_count": 80,
   "metadata": {},
   "outputs": [],
   "source": [
    "window_num.append(-1) #solve the first number issue"
   ]
  },
  {
   "cell_type": "code",
   "execution_count": 90,
   "metadata": {
    "scrolled": true
   },
   "outputs": [
    {
     "name": "stdout",
     "output_type": "stream",
     "text": [
      "This print is to check all ranges are correct:\n",
      "The range will be in 1097453 and 1097462 and the lenth of the targets in this block is 9\n",
      " Round 115013  done!!!\n",
      "\n",
      "Top 10 :\n",
      "True positive (anomaly with anomaly prediction): 1526\n",
      "False negative (normal with anomaly prediction): 21\n",
      "False positive (anomaly with normal prediction):  1805\n",
      "True negative (normal with normal prediction): 111661\n",
      "Accuracy: 0.9841235338613896\n",
      "Precision: 0.9864253393665159\n",
      "Recall: 0.4581206844791354\n",
      "F1 score: 0.6256662566625666\n",
      "---The runing time is: 11.194953680038452 seconds ---\n"
     ]
    }
   ],
   "source": [
    "import time\n",
    "start_time = time.time()\n",
    "\n",
    "\n",
    "TN=0 #ture negative\n",
    "FP=0 #false positive\n",
    "FN=0 #false negative\n",
    "TP=0 #ture positive\n",
    "precision=0\n",
    "recall=0\n",
    "accuracy=0\n",
    "f1_score=0\n",
    "left=0\n",
    "right=0\n",
    "\n",
    "n=10\n",
    "\n",
    "preds=(-prediction).argsort()[:,:n]\n",
    "truth=(-y_test).argsort()[:,0]\n",
    "truth=truth[:, None]\n",
    "\n",
    "\n",
    "for i in range(len(test_data)): #for each blocks\n",
    "\n",
    "    num_preds=window_num[i] #we have how many targets(prediction)\n",
    "\n",
    "    #print(num_preds, \"predicts in the\",i+1,\"th block \" )\n",
    "    #print(\"In this block, the lable should be\",test_data_small.Labels.iloc[i])   \n",
    "    window_num[-1]=-1\n",
    "    left+=window_num[i-1]\n",
    "    right+=window_num[i]\n",
    "       \n",
    "    if int(sum([truth[j] in preds[j] for j in range(left+1,right)])/window_num[i]) is not 1: # anomaly prediction\n",
    "        if int(test_data.labels.iloc[i]) == 1: #label is anomaly\n",
    "            \n",
    "            TP+=1\n",
    "        else: #label is normal\n",
    "            FP+=1\n",
    "            \n",
    "    if int(sum([truth[j] in preds[j] for j in range(left+1,right)])/window_num[i]) is 1: #normal prediction\n",
    "        if int(test_data.labels.iloc[i]) == 0: #label is normal\n",
    "            TN+=1\n",
    "        else: #label is anomaly\n",
    "            FN+=1\n",
    "            \n",
    "            \n",
    "\n",
    "    #here is to check all things are correct!!\n",
    "    #print(window_num[i],left+1,right)\n",
    "    if i == len(test_data)-1: \n",
    "        print(\"This print is to check all ranges are correct:\")\n",
    "        print(\"The range will be in\",left+1,'and',right,\"and the lenth of the targets in this block is\",window_num[i])\n",
    "        print(\" Round\",i+1,\" done!!!\\n\")\n",
    "\n",
    "    \n",
    "\n",
    "                 \n",
    "        \n",
    "\n",
    "print(\"Top\",n,\":\")\n",
    "#print(\"We have\",len(test_data),\"blocks in total.\")\n",
    "#print(\"We have\",len(y_test),\"windows in total.\")\n",
    "print(\"True positive (anomaly with anomaly prediction):\",TP)\n",
    "print(\"False negative (normal with anomaly prediction):\",FP)\n",
    "print(\"False positive (anomaly with normal prediction): \",FN)\n",
    "print(\"True negative (normal with normal prediction):\",TN)\n",
    "            \n",
    "accuracy=(TP+TN)/(TP+TN+FP+FN)\n",
    "precision=TP/(TP+FP)\n",
    "recall=TP/(TP+FN)\n",
    "f1_score=(2*recall*precision)/(recall+precision)\n",
    "\n",
    "print(\"Accuracy:\",accuracy)\n",
    "print(\"Precision:\",precision)\n",
    "print(\"Recall:\",recall)\n",
    "print(\"F1 score:\",f1_score)\n",
    "print(\"---The runing time is: %s seconds ---\" % (time.time() - start_time))         \n"
   ]
  },
  {
   "cell_type": "code",
   "execution_count": null,
   "metadata": {},
   "outputs": [],
   "source": []
  }
 ],
 "metadata": {
  "kernelspec": {
   "display_name": "Python 3",
   "language": "python",
   "name": "python3"
  },
  "language_info": {
   "codemirror_mode": {
    "name": "ipython",
    "version": 3
   },
   "file_extension": ".py",
   "mimetype": "text/x-python",
   "name": "python",
   "nbconvert_exporter": "python",
   "pygments_lexer": "ipython3",
   "version": "3.7.4"
  }
 },
 "nbformat": 4,
 "nbformat_minor": 2
}
